{
 "cells": [
  {
   "cell_type": "code",
   "execution_count": 9,
   "metadata": {
    "ExecuteTime": {
     "end_time": "2018-02-09T01:17:06.573306Z",
     "start_time": "2018-02-09T01:17:06.568036Z"
    },
    "collapsed": true
   },
   "outputs": [],
   "source": [
    "import builtins\n",
    "from IPython.lib import deepreload\n",
    "builtins.reload = deepreload.reload"
   ]
  },
  {
   "cell_type": "code",
   "execution_count": 10,
   "metadata": {
    "ExecuteTime": {
     "end_time": "2018-02-09T01:17:07.038236Z",
     "start_time": "2018-02-09T01:17:07.023064Z"
    },
    "collapsed": true
   },
   "outputs": [],
   "source": [
    "%load_ext autoreload\n",
    "%autoreload 2"
   ]
  },
  {
   "cell_type": "markdown",
   "metadata": {},
   "source": [
    "### Load json string into tweeta"
   ]
  },
  {
   "cell_type": "code",
   "execution_count": 1,
   "metadata": {
    "ExecuteTime": {
     "end_time": "2018-02-09T01:17:08.719914Z",
     "start_time": "2018-02-09T01:17:08.371227Z"
    }
   },
   "outputs": [
    {
     "ename": "ModuleNotFoundError",
     "evalue": "No module named 'numpy.compat'",
     "output_type": "error",
     "traceback": [
      "\u001b[1;31m---------------------------------------------------------------------------\u001b[0m",
      "\u001b[1;31mModuleNotFoundError\u001b[0m                       Traceback (most recent call last)",
      "\u001b[1;32m<ipython-input-1-55ffe783fffc>\u001b[0m in \u001b[0;36m<module>\u001b[1;34m()\u001b[0m\n\u001b[1;32m----> 1\u001b[1;33m \u001b[1;32mimport\u001b[0m \u001b[0mtweeta\u001b[0m\u001b[1;33m\u001b[0m\u001b[0m\n\u001b[0m\u001b[0;32m      2\u001b[0m \u001b[0mjson_str\u001b[0m \u001b[1;33m=\u001b[0m \u001b[1;34mr'{\"created_at\": \"Fri Dec 01 04:53:11 +0000 2017\", \"id\": 936458131114094593, \"id_str\": \"936458131114094593\", \"text\": \"@jungcula: Q: alcohol Krystal likes the most: wine\\nQ: person she looked for during hard times: family\\nQ: nickname she likes th\\u2026 \", \"source\": \"<a href=\\\"http://twitter.com/download/android\\\" rel=\\\"nofollow\\\">Twitter for Android</a>\", \"truncated\": false, \"in_reply_to_status_id\": null, \"in_reply_to_status_id_str\": null, \"in_reply_to_user_id\": null, \"in_reply_to_user_id_str\": null, \"in_reply_to_screen_name\": null, \"user\": {\"id\": 152253428, \"id_str\": \"152253428\", \"name\": \"\\uc138\\ud6c8\\uc774\", \"screen_name\": \"empresshwang\", \"location\": \"Ko Ko Bop \", \"url\": null, \"description\": \"#EXO\\n\\nEven when its tiring, i will hold onto the 8 pairs of hand\\n\\n-Chanyeol Park, Hand, 24112017,The ElyXion, Gocheok Sky Dome.\", \"translator_type\": \"none\", \"protected\": false, \"verified\": false, \"followers_count\": 154, \"friends_count\": 131, \"listed_count\": 1, \"favourites_count\": 4868, \"statuses_count\": 41886, \"created_at\": \"Sat Jun 05 13:48:12 +0000 2010\", \"utc_offset\": -32400, \"time_zone\": \"Alaska\", \"geo_enabled\": true, \"lang\": \"en\", \"contributors_enabled\": false, \"is_translator\": false, \"profile_background_color\": \"2C14E0\", \"profile_background_image_url\": \"http://pbs.twimg.com/profile_background_images/453793495187091456/2WFUp1Sk.png\", \"profile_background_image_url_https\": \"https://pbs.twimg.com/profile_background_images/453793495187091456/2WFUp1Sk.png\", \"profile_background_tile\": true, \"profile_link_color\": \"E80E0E\", \"profile_sidebar_border_color\": \"FFFFFF\", \"profile_sidebar_fill_color\": \"DDEEF6\", \"profile_text_color\": \"333333\", \"profile_use_background_image\": true, \"profile_image_url\": \"http://pbs.twimg.com/profile_images/900384342240776192/9-AmuqtE_normal.jpg\", \"profile_image_url_https\": \"https://pbs.twimg.com/profile_images/900384342240776192/9-AmuqtE_normal.jpg\", \"profile_banner_url\": \"https://pbs.twimg.com/profile_banners/152253428/1496565300\", \"default_profile\": false, \"default_profile_image\": false, \"following\": null, \"follow_request_sent\": null, \"notifications\": null}, \"geo\": null, \"coordinates\": null, \"place\": null, \"contributors\": null, \"retweeted_status\": {\"created_at\": \"Fri Dec 01 04:18:48 +0000 2017\", \"id\": 936449479254753280, \"id_str\": \"936449479254753280\", \"text\": \"Q: alcohol Krystal likes the most: wine\\nQ: person she looked for during hard times: family\\nQ: nickname she likes th\\u2026 https://t.co/C46LzdD0X8\", \"source\": \"<a href=\\\"http://twitter.com/download/iphone\\\" rel=\\\"nofollow\\\">Twitter for iPhone</a>\", \"truncated\": true, \"in_reply_to_status_id\": 936443673331429377, \"in_reply_to_status_id_str\": \"936443673331429377\", \"in_reply_to_user_id\": 3066798906, \"in_reply_to_user_id_str\": \"3066798906\", \"in_reply_to_screen_name\": \"jungcula\", \"user\": {\"id\": 3066798906, \"id_str\": \"3066798906\", \"name\": \"\\u3139\", \"screen_name\": \"jungcula\", \"location\": \"OK\", \"url\": \"https://open.spotify.com/user/elizabethynh/playlist/7wzyD6bULRsF31d3EPFgCF\", \"description\": \"Krystal Jung is \\ubb54\\ub4e4. \\ud074\\uc4f0\\ub9cc \\uc0dd\\uac01\\ub098 #KRYSTALSOLO2K18 -jcl- https://curiouscat.me/jungiddy\", \"translator_type\": \"none\", \"protected\": false, \"verified\": false, \"followers_count\": 9040, \"friends_count\": 151, \"listed_count\": 205, \"favourites_count\": 682, \"statuses_count\": 22440, \"created_at\": \"Sat Mar 07 15:47:48 +0000 2015\", \"utc_offset\": 25200, \"time_zone\": \"Jakarta\", \"geo_enabled\": false, \"lang\": \"en\", \"contributors_enabled\": false, \"is_translator\": false, \"profile_background_color\": \"131516\", \"profile_background_image_url\": \"http://pbs.twimg.com/profile_background_images/702468469304864768/ajIUe-38.jpg\", \"profile_background_image_url_https\": \"https://pbs.twimg.com/profile_background_images/702468469304864768/ajIUe-38.jpg\", \"profile_background_tile\": true, \"profile_link_color\": \"E81C4F\", \"profile_sidebar_border_color\": \"000000\", \"profile_sidebar_fill_color\": \"000000\", \"profile_text_color\": \"000000\", \"profile_use_background_image\": true, \"profile_image_url\": \"http://pbs.twimg.com/profile_images/921249283835170816/zLjicZBp_normal.jpg\", \"profile_image_url_https\": \"https://pbs.twimg.com/profile_images/921249283835170816/zLjicZBp_normal.jpg\", \"profile_banner_url\": \"https://pbs.twimg.com/profile_banners/3066798906/1511415698\", \"default_profile\": false, \"default_profile_image\": false, \"following\": null, \"follow_request_sent\": null, \"notifications\": null}, \"geo\": null, \"coordinates\": null, \"place\": null, \"contributors\": null, \"is_quote_status\": false, \"extended_tweet\": {\"full_text\": \"Q: alcohol Krystal likes the most: wine\\nQ: person she looked for during hard times: family\\nQ: nickname she likes the most: Ddoodeong-ie\\nQ: compliments she likes the most: trustworthy\\n\\nHAHAHAHA\", \"display_text_range\": [0, 192], \"entities\": {\"hashtags\": [], \"urls\": [], \"user_mentions\": [], \"symbols\": []}}, \"quote_count\": 0, \"reply_count\": 1, \"retweet_count\": 61, \"favorite_count\": 53, \"entities\": {\"hashtags\": [], \"urls\": [{\"url\": \"https://t.co/C46LzdD0X8\", \"expanded_url\": \"https://twitter.com/i/web/status/936449479254753280\", \"display_url\": \"twitter.com/i/web/status/9\\u2026\", \"indices\": [117, 140]}], \"user_mentions\": [], \"symbols\": []}, \"favorited\": false, \"retweeted\": false, \"filter_level\": \"low\", \"lang\": \"en\"}, \"is_quote_status\": false, \"quote_count\": 0, \"reply_count\": 0, \"retweet_count\": 0, \"favorite_count\": 0, \"entities\": {\"hashtags\": [], \"urls\": [], \"user_mentions\": [{\"screen_name\": \"jungcula\", \"name\": \"\\u3139\", \"id\": 3066798906, \"id_str\": \"3066798906\", \"indices\": [3, 12]}], \"symbols\": []}, \"favorited\": false, \"retweeted\": false, \"filter_level\": \"low\", \"lang\": \"en\", \"timestamp_ms\": \"1512103991665\"}'\u001b[0m\u001b[1;33m\u001b[0m\u001b[0m\n\u001b[0;32m      3\u001b[0m \u001b[0mtweet\u001b[0m \u001b[1;33m=\u001b[0m \u001b[0mtweeta\u001b[0m\u001b[1;33m.\u001b[0m\u001b[0mTweetaTweet\u001b[0m\u001b[1;33m(\u001b[0m\u001b[0mjson_str\u001b[0m\u001b[1;33m)\u001b[0m\u001b[1;33m\u001b[0m\u001b[0m\n",
      "\u001b[1;32m~\\Desktop\\tweeta\\tweeta\\__init__.py\u001b[0m in \u001b[0;36m<module>\u001b[1;34m()\u001b[0m\n\u001b[0;32m      9\u001b[0m \u001b[0m__author__\u001b[0m \u001b[1;33m=\u001b[0m \u001b[1;34m'Jiang Bian <ji0ng.bi0n@gmail.com>'\u001b[0m\u001b[1;33m\u001b[0m\u001b[0m\n\u001b[0;32m     10\u001b[0m \u001b[1;33m\u001b[0m\u001b[0m\n\u001b[1;32m---> 11\u001b[1;33m \u001b[1;32mfrom\u001b[0m \u001b[1;33m.\u001b[0m\u001b[0mtweet\u001b[0m \u001b[1;32mimport\u001b[0m \u001b[0mTweetaTweet\u001b[0m\u001b[1;33m\u001b[0m\u001b[0m\n\u001b[0m\u001b[0;32m     12\u001b[0m \u001b[1;33m\u001b[0m\u001b[0m\n\u001b[0;32m     13\u001b[0m from .exceptions import (\n",
      "\u001b[1;32m~\\Desktop\\tweeta\\tweeta\\tweet.py\u001b[0m in \u001b[0;36m<module>\u001b[1;34m()\u001b[0m\n\u001b[0;32m     13\u001b[0m \u001b[1;32mfrom\u001b[0m \u001b[1;33m.\u001b[0m\u001b[0mexceptions\u001b[0m \u001b[1;32mimport\u001b[0m \u001b[0mTweetaError\u001b[0m\u001b[1;33m\u001b[0m\u001b[0m\n\u001b[0;32m     14\u001b[0m \u001b[1;32mfrom\u001b[0m \u001b[1;33m.\u001b[0m\u001b[0mconstants\u001b[0m \u001b[1;32mimport\u001b[0m \u001b[0mPARSE_TIME_FORMAT\u001b[0m\u001b[1;33m,\u001b[0m \u001b[0mOUTPUT_TIME_FORMAT\u001b[0m\u001b[1;33m\u001b[0m\u001b[0m\n\u001b[1;32m---> 15\u001b[1;33m \u001b[1;32mfrom\u001b[0m \u001b[1;33m.\u001b[0m\u001b[0mtext\u001b[0m \u001b[1;32mimport\u001b[0m \u001b[0mfix_text\u001b[0m\u001b[1;33m,\u001b[0m \u001b[0mextract_mentions\u001b[0m\u001b[1;33m,\u001b[0m \u001b[0mextract_hashtags\u001b[0m\u001b[1;33m,\u001b[0m \u001b[0mlang\u001b[0m\u001b[1;33m,\u001b[0m \u001b[0mhas_url\u001b[0m\u001b[1;33m\u001b[0m\u001b[0m\n\u001b[0m\u001b[0;32m     16\u001b[0m \u001b[1;33m\u001b[0m\u001b[0m\n\u001b[0;32m     17\u001b[0m \u001b[1;32mfrom\u001b[0m \u001b[0memoji\u001b[0m \u001b[1;32mimport\u001b[0m \u001b[0mcore\u001b[0m\u001b[1;33m\u001b[0m\u001b[0m\n",
      "\u001b[1;32m~\\Desktop\\tweeta\\tweeta\\text.py\u001b[0m in \u001b[0;36m<module>\u001b[1;34m()\u001b[0m\n\u001b[0;32m    121\u001b[0m \u001b[1;31m###################################################\u001b[0m\u001b[1;33m\u001b[0m\u001b[1;33m\u001b[0m\u001b[0m\n\u001b[0;32m    122\u001b[0m \u001b[1;33m\u001b[0m\u001b[0m\n\u001b[1;32m--> 123\u001b[1;33m \u001b[1;32mimport\u001b[0m \u001b[0mlangid\u001b[0m\u001b[1;33m\u001b[0m\u001b[0m\n\u001b[0m\u001b[0;32m    124\u001b[0m \u001b[1;33m\u001b[0m\u001b[0m\n\u001b[0;32m    125\u001b[0m \u001b[1;32mdef\u001b[0m \u001b[0mlang\u001b[0m\u001b[1;33m(\u001b[0m\u001b[0mtext\u001b[0m\u001b[1;33m)\u001b[0m\u001b[1;33m:\u001b[0m\u001b[1;33m\u001b[0m\u001b[0m\n",
      "\u001b[1;32mE:\\conda\\lib\\site-packages\\langid\\__init__.py\u001b[0m in \u001b[0;36m<module>\u001b[1;34m()\u001b[0m\n\u001b[1;32m----> 1\u001b[1;33m \u001b[1;32mfrom\u001b[0m \u001b[1;33m.\u001b[0m\u001b[0mlangid\u001b[0m \u001b[1;32mimport\u001b[0m \u001b[0mclassify\u001b[0m\u001b[1;33m,\u001b[0m \u001b[0mrank\u001b[0m\u001b[1;33m,\u001b[0m \u001b[0mset_languages\u001b[0m\u001b[1;33m\u001b[0m\u001b[0m\n\u001b[0m",
      "\u001b[1;32mE:\\conda\\lib\\site-packages\\langid\\langid.py\u001b[0m in \u001b[0;36m<module>\u001b[1;34m()\u001b[0m\n\u001b[0;32m     55\u001b[0m \u001b[1;32mimport\u001b[0m \u001b[0msys\u001b[0m\u001b[1;33m\u001b[0m\u001b[0m\n\u001b[0;32m     56\u001b[0m \u001b[1;32mimport\u001b[0m \u001b[0mlogging\u001b[0m\u001b[1;33m\u001b[0m\u001b[0m\n\u001b[1;32m---> 57\u001b[1;33m \u001b[1;32mimport\u001b[0m \u001b[0mnumpy\u001b[0m \u001b[1;32mas\u001b[0m \u001b[0mnp\u001b[0m\u001b[1;33m\u001b[0m\u001b[0m\n\u001b[0m\u001b[0;32m     58\u001b[0m \u001b[1;32mfrom\u001b[0m \u001b[0mwsgiref\u001b[0m\u001b[1;33m.\u001b[0m\u001b[0msimple_server\u001b[0m \u001b[1;32mimport\u001b[0m \u001b[0mmake_server\u001b[0m\u001b[1;33m\u001b[0m\u001b[0m\n\u001b[0;32m     59\u001b[0m \u001b[1;32mfrom\u001b[0m \u001b[0mwsgiref\u001b[0m\u001b[1;33m.\u001b[0m\u001b[0mutil\u001b[0m \u001b[1;32mimport\u001b[0m \u001b[0mshift_path_info\u001b[0m\u001b[1;33m\u001b[0m\u001b[0m\n",
      "\u001b[1;32mE:\\conda\\lib\\site-packages\\numpy\\__init__.py\u001b[0m in \u001b[0;36m<module>\u001b[1;34m()\u001b[0m\n\u001b[0;32m    140\u001b[0m         \u001b[1;32mreturn\u001b[0m \u001b[0mloader\u001b[0m\u001b[1;33m(\u001b[0m\u001b[1;33m*\u001b[0m\u001b[0mpackages\u001b[0m\u001b[1;33m,\u001b[0m \u001b[1;33m**\u001b[0m\u001b[0moptions\u001b[0m\u001b[1;33m)\u001b[0m\u001b[1;33m\u001b[0m\u001b[0m\n\u001b[0;32m    141\u001b[0m \u001b[1;33m\u001b[0m\u001b[0m\n\u001b[1;32m--> 142\u001b[1;33m     \u001b[1;32mfrom\u001b[0m \u001b[1;33m.\u001b[0m \u001b[1;32mimport\u001b[0m \u001b[0madd_newdocs\u001b[0m\u001b[1;33m\u001b[0m\u001b[0m\n\u001b[0m\u001b[0;32m    143\u001b[0m     __all__ = ['add_newdocs',\n\u001b[0;32m    144\u001b[0m                \u001b[1;34m'ModuleDeprecationWarning'\u001b[0m\u001b[1;33m,\u001b[0m\u001b[1;33m\u001b[0m\u001b[0m\n",
      "\u001b[1;32mE:\\conda\\lib\\site-packages\\numpy\\add_newdocs.py\u001b[0m in \u001b[0;36m<module>\u001b[1;34m()\u001b[0m\n\u001b[0;32m     11\u001b[0m \u001b[1;32mfrom\u001b[0m \u001b[0m__future__\u001b[0m \u001b[1;32mimport\u001b[0m \u001b[0mdivision\u001b[0m\u001b[1;33m,\u001b[0m \u001b[0mabsolute_import\u001b[0m\u001b[1;33m,\u001b[0m \u001b[0mprint_function\u001b[0m\u001b[1;33m\u001b[0m\u001b[0m\n\u001b[0;32m     12\u001b[0m \u001b[1;33m\u001b[0m\u001b[0m\n\u001b[1;32m---> 13\u001b[1;33m \u001b[1;32mfrom\u001b[0m \u001b[0mnumpy\u001b[0m\u001b[1;33m.\u001b[0m\u001b[0mlib\u001b[0m \u001b[1;32mimport\u001b[0m \u001b[0madd_newdoc\u001b[0m\u001b[1;33m\u001b[0m\u001b[0m\n\u001b[0m\u001b[0;32m     14\u001b[0m \u001b[1;33m\u001b[0m\u001b[0m\n\u001b[0;32m     15\u001b[0m \u001b[1;31m###############################################################################\u001b[0m\u001b[1;33m\u001b[0m\u001b[1;33m\u001b[0m\u001b[0m\n",
      "\u001b[1;32mE:\\conda\\lib\\site-packages\\numpy\\lib\\__init__.py\u001b[0m in \u001b[0;36m<module>\u001b[1;34m()\u001b[0m\n\u001b[0;32m      6\u001b[0m \u001b[1;32mfrom\u001b[0m \u001b[0mnumpy\u001b[0m\u001b[1;33m.\u001b[0m\u001b[0mversion\u001b[0m \u001b[1;32mimport\u001b[0m \u001b[0mversion\u001b[0m \u001b[1;32mas\u001b[0m \u001b[0m__version__\u001b[0m\u001b[1;33m\u001b[0m\u001b[0m\n\u001b[0;32m      7\u001b[0m \u001b[1;33m\u001b[0m\u001b[0m\n\u001b[1;32m----> 8\u001b[1;33m \u001b[1;32mfrom\u001b[0m \u001b[1;33m.\u001b[0m\u001b[0mtype_check\u001b[0m \u001b[1;32mimport\u001b[0m \u001b[1;33m*\u001b[0m\u001b[1;33m\u001b[0m\u001b[0m\n\u001b[0m\u001b[0;32m      9\u001b[0m \u001b[1;32mfrom\u001b[0m \u001b[1;33m.\u001b[0m\u001b[0mindex_tricks\u001b[0m \u001b[1;32mimport\u001b[0m \u001b[1;33m*\u001b[0m\u001b[1;33m\u001b[0m\u001b[0m\n\u001b[0;32m     10\u001b[0m \u001b[1;32mfrom\u001b[0m \u001b[1;33m.\u001b[0m\u001b[0mfunction_base\u001b[0m \u001b[1;32mimport\u001b[0m \u001b[1;33m*\u001b[0m\u001b[1;33m\u001b[0m\u001b[0m\n",
      "\u001b[1;32mE:\\conda\\lib\\site-packages\\numpy\\lib\\type_check.py\u001b[0m in \u001b[0;36m<module>\u001b[1;34m()\u001b[0m\n\u001b[0;32m      9\u001b[0m            'common_type']\n\u001b[0;32m     10\u001b[0m \u001b[1;33m\u001b[0m\u001b[0m\n\u001b[1;32m---> 11\u001b[1;33m \u001b[1;32mimport\u001b[0m \u001b[0mnumpy\u001b[0m\u001b[1;33m.\u001b[0m\u001b[0mcore\u001b[0m\u001b[1;33m.\u001b[0m\u001b[0mnumeric\u001b[0m \u001b[1;32mas\u001b[0m \u001b[0m_nx\u001b[0m\u001b[1;33m\u001b[0m\u001b[0m\n\u001b[0m\u001b[0;32m     12\u001b[0m \u001b[1;32mfrom\u001b[0m \u001b[0mnumpy\u001b[0m\u001b[1;33m.\u001b[0m\u001b[0mcore\u001b[0m\u001b[1;33m.\u001b[0m\u001b[0mnumeric\u001b[0m \u001b[1;32mimport\u001b[0m \u001b[0masarray\u001b[0m\u001b[1;33m,\u001b[0m \u001b[0masanyarray\u001b[0m\u001b[1;33m,\u001b[0m \u001b[0marray\u001b[0m\u001b[1;33m,\u001b[0m \u001b[0misnan\u001b[0m\u001b[1;33m,\u001b[0m \u001b[0mzeros\u001b[0m\u001b[1;33m\u001b[0m\u001b[0m\n\u001b[0;32m     13\u001b[0m \u001b[1;32mfrom\u001b[0m \u001b[1;33m.\u001b[0m\u001b[0mufunclike\u001b[0m \u001b[1;32mimport\u001b[0m \u001b[0misneginf\u001b[0m\u001b[1;33m,\u001b[0m \u001b[0misposinf\u001b[0m\u001b[1;33m\u001b[0m\u001b[0m\n",
      "\u001b[1;32mE:\\conda\\lib\\site-packages\\numpy\\core\\numeric.py\u001b[0m in \u001b[0;36m<module>\u001b[1;34m()\u001b[0m\n\u001b[0;32m     27\u001b[0m                     \u001b[0mERR_IGNORE\u001b[0m\u001b[1;33m,\u001b[0m \u001b[0mERR_WARN\u001b[0m\u001b[1;33m,\u001b[0m \u001b[0mERR_RAISE\u001b[0m\u001b[1;33m,\u001b[0m \u001b[0mERR_CALL\u001b[0m\u001b[1;33m,\u001b[0m \u001b[0mERR_PRINT\u001b[0m\u001b[1;33m,\u001b[0m\u001b[1;33m\u001b[0m\u001b[0m\n\u001b[0;32m     28\u001b[0m                     ERR_LOG, ERR_DEFAULT, PINF, NAN)\n\u001b[1;32m---> 29\u001b[1;33m \u001b[1;32mfrom\u001b[0m \u001b[1;33m.\u001b[0m \u001b[1;32mimport\u001b[0m \u001b[0mnumerictypes\u001b[0m\u001b[1;33m\u001b[0m\u001b[0m\n\u001b[0m\u001b[0;32m     30\u001b[0m \u001b[1;32mfrom\u001b[0m \u001b[1;33m.\u001b[0m\u001b[0mnumerictypes\u001b[0m \u001b[1;32mimport\u001b[0m \u001b[0mlonglong\u001b[0m\u001b[1;33m,\u001b[0m \u001b[0mintc\u001b[0m\u001b[1;33m,\u001b[0m \u001b[0mint_\u001b[0m\u001b[1;33m,\u001b[0m \u001b[0mfloat_\u001b[0m\u001b[1;33m,\u001b[0m \u001b[0mcomplex_\u001b[0m\u001b[1;33m,\u001b[0m \u001b[0mbool_\u001b[0m\u001b[1;33m\u001b[0m\u001b[0m\n\u001b[0;32m     31\u001b[0m \u001b[1;32mfrom\u001b[0m \u001b[1;33m.\u001b[0m\u001b[0m_internal\u001b[0m \u001b[1;32mimport\u001b[0m \u001b[0mTooHardError\u001b[0m\u001b[1;33m,\u001b[0m \u001b[0mAxisError\u001b[0m\u001b[1;33m\u001b[0m\u001b[0m\n",
      "\u001b[1;32mE:\\conda\\lib\\site-packages\\numpy\\core\\numerictypes.py\u001b[0m in \u001b[0;36m<module>\u001b[1;34m()\u001b[0m\n\u001b[0;32m     88\u001b[0m \u001b[1;32mimport\u001b[0m \u001b[0mwarnings\u001b[0m\u001b[1;33m\u001b[0m\u001b[0m\n\u001b[0;32m     89\u001b[0m \u001b[1;33m\u001b[0m\u001b[0m\n\u001b[1;32m---> 90\u001b[1;33m \u001b[1;32mfrom\u001b[0m \u001b[0mnumpy\u001b[0m\u001b[1;33m.\u001b[0m\u001b[0mcompat\u001b[0m \u001b[1;32mimport\u001b[0m \u001b[0mbytes\u001b[0m\u001b[1;33m,\u001b[0m \u001b[0mlong\u001b[0m\u001b[1;33m\u001b[0m\u001b[0m\n\u001b[0m\u001b[0;32m     91\u001b[0m from numpy.core.multiarray import (\n\u001b[0;32m     92\u001b[0m         \u001b[0mtypeinfo\u001b[0m\u001b[1;33m,\u001b[0m \u001b[0mndarray\u001b[0m\u001b[1;33m,\u001b[0m \u001b[0marray\u001b[0m\u001b[1;33m,\u001b[0m \u001b[0mempty\u001b[0m\u001b[1;33m,\u001b[0m \u001b[0mdtype\u001b[0m\u001b[1;33m,\u001b[0m \u001b[0mdatetime_data\u001b[0m\u001b[1;33m,\u001b[0m\u001b[1;33m\u001b[0m\u001b[0m\n",
      "\u001b[1;31mModuleNotFoundError\u001b[0m: No module named 'numpy.compat'"
     ]
    }
   ],
   "source": [
    "import tweeta\n",
    "json_str = r'{\"created_at\": \"Fri Dec 01 04:53:11 +0000 2017\", \"id\": 936458131114094593, \"id_str\": \"936458131114094593\", \"text\": \"@jungcula: Q: alcohol Krystal likes the most: wine\\nQ: person she looked for during hard times: family\\nQ: nickname she likes th\\u2026 \", \"source\": \"<a href=\\\"http://twitter.com/download/android\\\" rel=\\\"nofollow\\\">Twitter for Android</a>\", \"truncated\": false, \"in_reply_to_status_id\": null, \"in_reply_to_status_id_str\": null, \"in_reply_to_user_id\": null, \"in_reply_to_user_id_str\": null, \"in_reply_to_screen_name\": null, \"user\": {\"id\": 152253428, \"id_str\": \"152253428\", \"name\": \"\\uc138\\ud6c8\\uc774\", \"screen_name\": \"empresshwang\", \"location\": \"Ko Ko Bop \", \"url\": null, \"description\": \"#EXO\\n\\nEven when its tiring, i will hold onto the 8 pairs of hand\\n\\n-Chanyeol Park, Hand, 24112017,The ElyXion, Gocheok Sky Dome.\", \"translator_type\": \"none\", \"protected\": false, \"verified\": false, \"followers_count\": 154, \"friends_count\": 131, \"listed_count\": 1, \"favourites_count\": 4868, \"statuses_count\": 41886, \"created_at\": \"Sat Jun 05 13:48:12 +0000 2010\", \"utc_offset\": -32400, \"time_zone\": \"Alaska\", \"geo_enabled\": true, \"lang\": \"en\", \"contributors_enabled\": false, \"is_translator\": false, \"profile_background_color\": \"2C14E0\", \"profile_background_image_url\": \"http://pbs.twimg.com/profile_background_images/453793495187091456/2WFUp1Sk.png\", \"profile_background_image_url_https\": \"https://pbs.twimg.com/profile_background_images/453793495187091456/2WFUp1Sk.png\", \"profile_background_tile\": true, \"profile_link_color\": \"E80E0E\", \"profile_sidebar_border_color\": \"FFFFFF\", \"profile_sidebar_fill_color\": \"DDEEF6\", \"profile_text_color\": \"333333\", \"profile_use_background_image\": true, \"profile_image_url\": \"http://pbs.twimg.com/profile_images/900384342240776192/9-AmuqtE_normal.jpg\", \"profile_image_url_https\": \"https://pbs.twimg.com/profile_images/900384342240776192/9-AmuqtE_normal.jpg\", \"profile_banner_url\": \"https://pbs.twimg.com/profile_banners/152253428/1496565300\", \"default_profile\": false, \"default_profile_image\": false, \"following\": null, \"follow_request_sent\": null, \"notifications\": null}, \"geo\": null, \"coordinates\": null, \"place\": null, \"contributors\": null, \"retweeted_status\": {\"created_at\": \"Fri Dec 01 04:18:48 +0000 2017\", \"id\": 936449479254753280, \"id_str\": \"936449479254753280\", \"text\": \"Q: alcohol Krystal likes the most: wine\\nQ: person she looked for during hard times: family\\nQ: nickname she likes th\\u2026 https://t.co/C46LzdD0X8\", \"source\": \"<a href=\\\"http://twitter.com/download/iphone\\\" rel=\\\"nofollow\\\">Twitter for iPhone</a>\", \"truncated\": true, \"in_reply_to_status_id\": 936443673331429377, \"in_reply_to_status_id_str\": \"936443673331429377\", \"in_reply_to_user_id\": 3066798906, \"in_reply_to_user_id_str\": \"3066798906\", \"in_reply_to_screen_name\": \"jungcula\", \"user\": {\"id\": 3066798906, \"id_str\": \"3066798906\", \"name\": \"\\u3139\", \"screen_name\": \"jungcula\", \"location\": \"OK\", \"url\": \"https://open.spotify.com/user/elizabethynh/playlist/7wzyD6bULRsF31d3EPFgCF\", \"description\": \"Krystal Jung is \\ubb54\\ub4e4. \\ud074\\uc4f0\\ub9cc \\uc0dd\\uac01\\ub098 #KRYSTALSOLO2K18 -jcl- https://curiouscat.me/jungiddy\", \"translator_type\": \"none\", \"protected\": false, \"verified\": false, \"followers_count\": 9040, \"friends_count\": 151, \"listed_count\": 205, \"favourites_count\": 682, \"statuses_count\": 22440, \"created_at\": \"Sat Mar 07 15:47:48 +0000 2015\", \"utc_offset\": 25200, \"time_zone\": \"Jakarta\", \"geo_enabled\": false, \"lang\": \"en\", \"contributors_enabled\": false, \"is_translator\": false, \"profile_background_color\": \"131516\", \"profile_background_image_url\": \"http://pbs.twimg.com/profile_background_images/702468469304864768/ajIUe-38.jpg\", \"profile_background_image_url_https\": \"https://pbs.twimg.com/profile_background_images/702468469304864768/ajIUe-38.jpg\", \"profile_background_tile\": true, \"profile_link_color\": \"E81C4F\", \"profile_sidebar_border_color\": \"000000\", \"profile_sidebar_fill_color\": \"000000\", \"profile_text_color\": \"000000\", \"profile_use_background_image\": true, \"profile_image_url\": \"http://pbs.twimg.com/profile_images/921249283835170816/zLjicZBp_normal.jpg\", \"profile_image_url_https\": \"https://pbs.twimg.com/profile_images/921249283835170816/zLjicZBp_normal.jpg\", \"profile_banner_url\": \"https://pbs.twimg.com/profile_banners/3066798906/1511415698\", \"default_profile\": false, \"default_profile_image\": false, \"following\": null, \"follow_request_sent\": null, \"notifications\": null}, \"geo\": null, \"coordinates\": null, \"place\": null, \"contributors\": null, \"is_quote_status\": false, \"extended_tweet\": {\"full_text\": \"Q: alcohol Krystal likes the most: wine\\nQ: person she looked for during hard times: family\\nQ: nickname she likes the most: Ddoodeong-ie\\nQ: compliments she likes the most: trustworthy\\n\\nHAHAHAHA\", \"display_text_range\": [0, 192], \"entities\": {\"hashtags\": [], \"urls\": [], \"user_mentions\": [], \"symbols\": []}}, \"quote_count\": 0, \"reply_count\": 1, \"retweet_count\": 61, \"favorite_count\": 53, \"entities\": {\"hashtags\": [], \"urls\": [{\"url\": \"https://t.co/C46LzdD0X8\", \"expanded_url\": \"https://twitter.com/i/web/status/936449479254753280\", \"display_url\": \"twitter.com/i/web/status/9\\u2026\", \"indices\": [117, 140]}], \"user_mentions\": [], \"symbols\": []}, \"favorited\": false, \"retweeted\": false, \"filter_level\": \"low\", \"lang\": \"en\"}, \"is_quote_status\": false, \"quote_count\": 0, \"reply_count\": 0, \"retweet_count\": 0, \"favorite_count\": 0, \"entities\": {\"hashtags\": [], \"urls\": [], \"user_mentions\": [{\"screen_name\": \"jungcula\", \"name\": \"\\u3139\", \"id\": 3066798906, \"id_str\": \"3066798906\", \"indices\": [3, 12]}], \"symbols\": []}, \"favorited\": false, \"retweeted\": false, \"filter_level\": \"low\", \"lang\": \"en\", \"timestamp_ms\": \"1512103991665\"}'\n",
    "tweet = tweeta.TweetaTweet(json_str)"
   ]
  },
  {
   "cell_type": "code",
   "execution_count": null,
   "metadata": {
    "ExecuteTime": {
     "end_time": "2017-12-26T23:27:18.262622Z",
     "start_time": "2017-12-26T23:27:18.246770Z"
    },
    "collapsed": true
   },
   "outputs": [],
   "source": [
    "json_str = r'{\"delete\":{\"status\":{\"id\":3061373903,\"user_id\":57136355}}'\n",
    "tweet = tweeta.TweetaTweet(json_str)"
   ]
  },
  {
   "cell_type": "markdown",
   "metadata": {
    "heading_collapsed": true
   },
   "source": [
    "### Get varous versions of the text"
   ]
  },
  {
   "cell_type": "code",
   "execution_count": null,
   "metadata": {
    "ExecuteTime": {
     "end_time": "2017-12-26T19:52:48.828855Z",
     "start_time": "2017-12-26T19:52:48.813129Z"
    },
    "collapsed": true,
    "hidden": true
   },
   "outputs": [],
   "source": [
    "tweet.tweet()"
   ]
  },
  {
   "cell_type": "code",
   "execution_count": null,
   "metadata": {
    "ExecuteTime": {
     "end_time": "2017-12-26T19:52:59.237703Z",
     "start_time": "2017-12-26T19:52:59.229902Z"
    },
    "collapsed": true,
    "hidden": true
   },
   "outputs": [],
   "source": [
    "tweet.text()"
   ]
  },
  {
   "cell_type": "code",
   "execution_count": null,
   "metadata": {
    "ExecuteTime": {
     "end_time": "2017-12-26T19:52:51.905045Z",
     "start_time": "2017-12-26T19:52:51.896579Z"
    },
    "collapsed": true,
    "hidden": true
   },
   "outputs": [],
   "source": [
    "tweet.fixed_text()"
   ]
  },
  {
   "cell_type": "markdown",
   "metadata": {
    "heading_collapsed": true
   },
   "source": [
    "### Get an attribute from tweet"
   ]
  },
  {
   "cell_type": "code",
   "execution_count": null,
   "metadata": {
    "ExecuteTime": {
     "end_time": "2017-12-26T19:53:08.624454Z",
     "start_time": "2017-12-26T19:53:08.611948Z"
    },
    "collapsed": true,
    "hidden": true
   },
   "outputs": [],
   "source": [
    "tweet.get(\"user\")"
   ]
  },
  {
   "cell_type": "markdown",
   "metadata": {
    "ExecuteTime": {
     "end_time": "2017-12-26T19:32:58.379043Z",
     "start_time": "2017-12-26T19:32:58.371069Z"
    },
    "heading_collapsed": true
   },
   "source": [
    "### Work with `created_at` date formating"
   ]
  },
  {
   "cell_type": "code",
   "execution_count": null,
   "metadata": {
    "ExecuteTime": {
     "end_time": "2017-12-28T22:18:14.866612Z",
     "start_time": "2017-12-28T22:18:14.862835Z"
    },
    "collapsed": true,
    "hidden": true
   },
   "outputs": [],
   "source": [
    "import time"
   ]
  },
  {
   "cell_type": "code",
   "execution_count": null,
   "metadata": {
    "ExecuteTime": {
     "end_time": "2017-12-26T23:27:47.635541Z",
     "start_time": "2017-12-26T23:27:47.610857Z"
    },
    "collapsed": true,
    "hidden": true
   },
   "outputs": [],
   "source": [
    "tweet.created_at('%Y-%m')"
   ]
  },
  {
   "cell_type": "code",
   "execution_count": null,
   "metadata": {
    "ExecuteTime": {
     "end_time": "2017-12-26T23:28:29.269678Z",
     "start_time": "2017-12-26T23:28:29.262851Z"
    },
    "collapsed": true,
    "hidden": true
   },
   "outputs": [],
   "source": [
    "tweet.created_at('Y-M')"
   ]
  },
  {
   "cell_type": "markdown",
   "metadata": {
    "heading_collapsed": true
   },
   "source": [
    "### Play with snowflake (twitter id generator) "
   ]
  },
  {
   "cell_type": "code",
   "execution_count": null,
   "metadata": {
    "ExecuteTime": {
     "end_time": "2017-12-28T22:17:34.672508Z",
     "start_time": "2017-12-28T22:17:34.669176Z"
    },
    "collapsed": true,
    "hidden": true
   },
   "outputs": [],
   "source": [
    "import tweeta.constants"
   ]
  },
  {
   "cell_type": "code",
   "execution_count": null,
   "metadata": {
    "ExecuteTime": {
     "end_time": "2017-12-28T22:17:44.146957Z",
     "start_time": "2017-12-28T22:17:44.136219Z"
    },
    "collapsed": true,
    "hidden": true
   },
   "outputs": [],
   "source": [
    "tweeta.constants.PARSE_TIME_FORMAT"
   ]
  },
  {
   "cell_type": "markdown",
   "metadata": {
    "hidden": true
   },
   "source": [
    "More or less I want to know the relationship between `timestampe` and tweet `id`\n",
    "\n",
    "Example:\n",
    "* id: '151406703034900480'\n",
    "* created_at: 'Mon Dec 26 20:59:05 +0000 2011'"
   ]
  },
  {
   "cell_type": "code",
   "execution_count": null,
   "metadata": {
    "ExecuteTime": {
     "end_time": "2017-12-28T22:23:06.282876Z",
     "start_time": "2017-12-28T22:23:06.278960Z"
    },
    "collapsed": true,
    "hidden": true
   },
   "outputs": [],
   "source": [
    "t = time.strptime('Mon Dec 26 20:59:05 +0000 2011', tweeta.constants.PARSE_TIME_FORMAT)"
   ]
  },
  {
   "cell_type": "code",
   "execution_count": null,
   "metadata": {
    "ExecuteTime": {
     "end_time": "2017-12-28T22:23:06.982441Z",
     "start_time": "2017-12-28T22:23:06.977417Z"
    },
    "collapsed": true,
    "hidden": true
   },
   "outputs": [],
   "source": [
    "t"
   ]
  },
  {
   "cell_type": "code",
   "execution_count": null,
   "metadata": {
    "ExecuteTime": {
     "end_time": "2017-12-28T22:23:08.127966Z",
     "start_time": "2017-12-28T22:23:08.123252Z"
    },
    "collapsed": true,
    "hidden": true
   },
   "outputs": [],
   "source": [
    "time.mktime(t) "
   ]
  },
  {
   "cell_type": "markdown",
   "metadata": {
    "hidden": true
   },
   "source": [
    "https://github.com/client9/snowflake2time/blob/master/python/snowflake.py"
   ]
  },
  {
   "cell_type": "code",
   "execution_count": null,
   "metadata": {
    "ExecuteTime": {
     "end_time": "2017-12-28T22:26:57.342194Z",
     "start_time": "2017-12-28T22:26:57.320502Z"
    },
    "collapsed": true,
    "hidden": true
   },
   "outputs": [],
   "source": [
    "# Twitter Snowflake ID to timestamp (and back)\n",
    "# https://github.com/client9/snowflake2time/\n",
    "# Nick Galbreath @ngalbreath nickg@client9.com\n",
    "# Public Domain -- No Copyright -- Cut-n-Paste!\n",
    "#  but be kind and give credit\n",
    "#\n",
    "\n",
    "# Python by default has unlimited integer precision, so this is mostly\n",
    "# an exercise in date/time/UTC conversion\n",
    "\n",
    "import time\n",
    "import calendar\n",
    "\n",
    "def str2utc(s):\n",
    "    # parse twitter time string into UTC seconds, unix-style\n",
    "    # python's bizarro world of dates, times and calendars\n",
    "    return calendar.timegm(time.strptime(s, \"%a %b %d %H:%M:%S +0000 %Y\"))\n",
    "\n",
    "def utc2snowflake(stamp):\n",
    "    return (int(round(stamp * 1000)) - 1288834974657) << 22\n",
    "\n",
    "def snowflake2utc(sf):\n",
    "    return ((sf >> 22) + 1288834974657) / 1000.0\n",
    "\n",
    "def str2utcms(s):\n",
    "    return 1000 * calendar.timegm(time.strptime(s, \"%a %b %d %H:%M:%S +0000 %Y\"))\n",
    "\n",
    "def snowflake2utcms(sf):\n",
    "    return ((sf >> 22) + 1288834974657)\n",
    "\n",
    "# really is the best way to get utc timestamp?\n",
    "#   (minus changing your box to be UTC)\n",
    "def utcnow():\n",
    "    calendar.timegm(datetime.datetime.utcnow().timetuple())"
   ]
  },
  {
   "cell_type": "code",
   "execution_count": null,
   "metadata": {
    "ExecuteTime": {
     "end_time": "2017-12-28T22:27:59.421674Z",
     "start_time": "2017-12-28T22:27:59.417843Z"
    },
    "collapsed": true,
    "hidden": true
   },
   "outputs": [],
   "source": [
    "utc_t = str2utc('Mon Dec 26 20:59:05 +0000 2011')"
   ]
  },
  {
   "cell_type": "code",
   "execution_count": null,
   "metadata": {
    "ExecuteTime": {
     "end_time": "2017-12-28T22:28:03.534625Z",
     "start_time": "2017-12-28T22:28:03.529998Z"
    },
    "collapsed": true,
    "hidden": true
   },
   "outputs": [],
   "source": [
    "utc_t"
   ]
  },
  {
   "cell_type": "code",
   "execution_count": null,
   "metadata": {
    "ExecuteTime": {
     "end_time": "2017-12-28T23:12:39.942575Z",
     "start_time": "2017-12-28T23:12:39.938273Z"
    },
    "collapsed": true,
    "hidden": true
   },
   "outputs": [],
   "source": [
    "utc2snowflake(utc_t)#151406703034900480"
   ]
  },
  {
   "cell_type": "markdown",
   "metadata": {
    "hidden": true
   },
   "source": [
    "** Snowflake Layout **\n",
    "\n",
    "1 sign bit -- not used, always 0?\n",
    "\n",
    "41 bits (milliseconds since epoch) - 1288834974657L\n",
    "\n",
    "5 bits datacenter id\n",
    "\n",
    "5 bits machine id\n",
    "\n",
    "12 bit sequence number\n",
    "\n",
    "\n",
    "So, to emuerate all possible tweets with the same timestampe, we will have 2^22 = 4,194,304 different combinations.."
   ]
  },
  {
   "cell_type": "markdown",
   "metadata": {
    "hidden": true
   },
   "source": [
    "151406703034900480 #actual id\n",
    "151406700262326272 #generated from timestamp\n",
    "\n",
    "The first 8 digits are the same, the rest are different."
   ]
  },
  {
   "cell_type": "code",
   "execution_count": null,
   "metadata": {
    "ExecuteTime": {
     "end_time": "2017-12-28T22:29:57.424461Z",
     "start_time": "2017-12-28T22:29:57.421689Z"
    },
    "collapsed": true,
    "hidden": true
   },
   "outputs": [],
   "source": [
    "snowflake2utc(151406703034900480)"
   ]
  },
  {
   "cell_type": "code",
   "execution_count": null,
   "metadata": {
    "ExecuteTime": {
     "end_time": "2017-12-28T23:35:15.386382Z",
     "start_time": "2017-12-28T23:35:15.382435Z"
    },
    "collapsed": true,
    "hidden": true
   },
   "outputs": [],
   "source": [
    "(1324933145 * 1000 - 1288834974657) << 22"
   ]
  },
  {
   "cell_type": "code",
   "execution_count": null,
   "metadata": {
    "ExecuteTime": {
     "end_time": "2017-12-28T23:40:48.597929Z",
     "start_time": "2017-12-28T23:40:48.594690Z"
    },
    "collapsed": true,
    "hidden": true
   },
   "outputs": [],
   "source": [
    "'{0:064b}'.format(1324933145)"
   ]
  },
  {
   "cell_type": "code",
   "execution_count": null,
   "metadata": {
    "ExecuteTime": {
     "end_time": "2017-12-28T23:41:10.586021Z",
     "start_time": "2017-12-28T23:41:10.582575Z"
    },
    "collapsed": true,
    "hidden": true
   },
   "outputs": [],
   "source": [
    "len('0000000000000000000000000000000001001110111110001110000000011001')"
   ]
  },
  {
   "cell_type": "code",
   "execution_count": null,
   "metadata": {
    "ExecuteTime": {
     "end_time": "2017-12-28T23:41:43.276450Z",
     "start_time": "2017-12-28T23:41:43.272347Z"
    },
    "collapsed": true,
    "hidden": true
   },
   "outputs": [],
   "source": [
    "'{0:064b}'.format((1324933145 * 1000 - 1288834974657) << 22)"
   ]
  },
  {
   "cell_type": "code",
   "execution_count": null,
   "metadata": {
    "ExecuteTime": {
     "end_time": "2017-12-28T23:42:06.691519Z",
     "start_time": "2017-12-28T23:42:06.687913Z"
    },
    "collapsed": true,
    "hidden": true
   },
   "outputs": [],
   "source": [
    "len('0000000000000000000000')"
   ]
  },
  {
   "cell_type": "markdown",
   "metadata": {
    "heading_collapsed": true
   },
   "source": [
    "### Check whether a tweet is a retweet or quote"
   ]
  },
  {
   "cell_type": "code",
   "execution_count": null,
   "metadata": {
    "ExecuteTime": {
     "end_time": "2018-01-02T12:51:54.065144Z",
     "start_time": "2018-01-02T12:51:54.047764Z"
    },
    "collapsed": true,
    "hidden": true
   },
   "outputs": [],
   "source": [
    "tweet.is_retweet()"
   ]
  },
  {
   "cell_type": "code",
   "execution_count": null,
   "metadata": {
    "ExecuteTime": {
     "end_time": "2018-01-02T12:47:14.149559Z",
     "start_time": "2018-01-02T12:47:14.146585Z"
    },
    "collapsed": true,
    "hidden": true
   },
   "outputs": [],
   "source": [
    "tweet.json()"
   ]
  },
  {
   "cell_type": "code",
   "execution_count": null,
   "metadata": {
    "ExecuteTime": {
     "end_time": "2018-01-02T12:47:51.688994Z",
     "start_time": "2018-01-02T12:47:51.683155Z"
    },
    "collapsed": true,
    "hidden": true
   },
   "outputs": [],
   "source": [
    "'XIR:%d'%tweet.is_retweet()"
   ]
  },
  {
   "cell_type": "code",
   "execution_count": null,
   "metadata": {
    "ExecuteTime": {
     "end_time": "2017-12-26T19:53:14.663483Z",
     "start_time": "2017-12-26T19:53:14.653529Z"
    },
    "collapsed": true,
    "hidden": true
   },
   "outputs": [],
   "source": [
    "tweet.fixed_text()"
   ]
  },
  {
   "cell_type": "code",
   "execution_count": null,
   "metadata": {
    "ExecuteTime": {
     "end_time": "2017-12-26T19:53:19.160402Z",
     "start_time": "2017-12-26T19:53:19.150183Z"
    },
    "collapsed": true,
    "hidden": true
   },
   "outputs": [],
   "source": [
    "tweet.get('retweeted_status')"
   ]
  },
  {
   "cell_type": "code",
   "execution_count": null,
   "metadata": {
    "ExecuteTime": {
     "end_time": "2017-12-26T21:36:55.250149Z",
     "start_time": "2017-12-26T21:36:55.201991Z"
    },
    "collapsed": true,
    "hidden": true
   },
   "outputs": [],
   "source": [
    "line = '{\"created_at\": \"Fri Dec 01 04:53:05 +0000 2017\", \"id\": 936458105939996674, \"id_str\": \"936458105939996674\", \"text\": \"RT @melaniexbarrera: to read \\\\u201cOU still sucks\\\\u201d on my tl https://t.co/gZALaBNFsv\", \"source\": \"<a href=\\\\\"http://twitter.com/download/iphone\\\\\" rel=\\\\\"nofollow\\\\\">Twitter for iPhone</a>\", \"truncated\": false, \"in_reply_to_status_id\": null, \"in_reply_to_status_id_str\": null, \"in_reply_to_user_id\": null, \"in_reply_to_user_id_str\": null, \"in_reply_to_screen_name\": null, \"user\": {\"id\": 1705999584, \"id_str\": \"1705999584\", \"name\": \"Richmas\\\\ud83c\\\\udf84(4.0 SZN)\", \"screen_name\": \"alexfrommacedon\", \"location\": \"Mercedes / ATX\", \"url\": null, \"description\": \"There\\'s a hope still burning. John 8:32 The University of Texas \\\\u201821 \\\\ud83e\\\\udd18\\\\ud83c\\\\udffb\", \"translator_type\": \"none\", \"protected\": false, \"verified\": false, \"followers_count\": 781, \"friends_count\": 540, \"listed_count\": 8, \"favourites_count\": 4793, \"statuses_count\": 28249, \"created_at\": \"Wed Aug 28 01:30:31 +0000 2013\", \"utc_offset\": null, \"time_zone\": null, \"geo_enabled\": true, \"lang\": \"en\", \"contributors_enabled\": false, \"is_translator\": false, \"profile_background_color\": \"C0DEED\", \"profile_background_image_url\": \"http://abs.twimg.com/images/themes/theme1/bg.png\", \"profile_background_image_url_https\": \"https://abs.twimg.com/images/themes/theme1/bg.png\", \"profile_background_tile\": false, \"profile_link_color\": \"1DA1F2\", \"profile_sidebar_border_color\": \"C0DEED\", \"profile_sidebar_fill_color\": \"DDEEF6\", \"profile_text_color\": \"333333\", \"profile_use_background_image\": true, \"profile_image_url\": \"http://pbs.twimg.com/profile_images/928764655257997314/fsgPfa0p_normal.jpg\", \"profile_image_url_https\": \"https://pbs.twimg.com/profile_images/928764655257997314/fsgPfa0p_normal.jpg\", \"profile_banner_url\": \"https://pbs.twimg.com/profile_banners/1705999584/1512066894\", \"default_profile\": true, \"default_profile_image\": false, \"following\": null, \"follow_request_sent\": null, \"notifications\": null}, \"geo\": null, \"coordinates\": null, \"place\": null, \"contributors\": null, \"retweeted_status\": {\"created_at\": \"Fri Dec 01 04:52:39 +0000 2017\", \"id\": 936457994572845056, \"id_str\": \"936457994572845056\", \"text\": \"to read \\\\u201cOU still sucks\\\\u201d on my tl https://t.co/gZALaBNFsv\", \"display_text_range\": [0, 33], \"source\": \"<a href=\\\\\"http://twitter.com/download/iphone\\\\\" rel=\\\\\"nofollow\\\\\">Twitter for iPhone</a>\", \"truncated\": false, \"in_reply_to_status_id\": null, \"in_reply_to_status_id_str\": null, \"in_reply_to_user_id\": null, \"in_reply_to_user_id_str\": null, \"in_reply_to_screen_name\": null, \"user\": {\"id\": 769416939571601408, \"id_str\": \"769416939571601408\", \"name\": \"\\\\u24dc \\\\u24d4 \\\\u24db\", \"screen_name\": \"melaniexbarrera\", \"location\": \"listening to depressing music \", \"url\": \"https://vsco.co/voguemela\", \"description\": \"big nose but still pulling these hoes.\", \"translator_type\": \"none\", \"protected\": false, \"verified\": false, \"followers_count\": 410, \"friends_count\": 295, \"listed_count\": 0, \"favourites_count\": 5675, \"statuses_count\": 1344, \"created_at\": \"Sat Aug 27 06:11:08 +0000 2016\", \"utc_offset\": -28800, \"time_zone\": \"Pacific Time (US & Canada)\", \"geo_enabled\": true, \"lang\": \"en\", \"contributors_enabled\": false, \"is_translator\": false, \"profile_background_color\": \"F5F8FA\", \"profile_background_image_url\": \"\", \"profile_background_image_url_https\": \"\", \"profile_background_tile\": false, \"profile_link_color\": \"1DA1F2\", \"profile_sidebar_border_color\": \"C0DEED\", \"profile_sidebar_fill_color\": \"DDEEF6\", \"profile_text_color\": \"333333\", \"profile_use_background_image\": true, \"profile_image_url\": \"http://pbs.twimg.com/profile_images/932408598193418240/fqn4547p_normal.jpg\", \"profile_image_url_https\": \"https://pbs.twimg.com/profile_images/932408598193418240/fqn4547p_normal.jpg\", \"profile_banner_url\": \"https://pbs.twimg.com/profile_banners/769416939571601408/1509230706\", \"default_profile\": true, \"default_profile_image\": false, \"following\": null, \"follow_request_sent\": null, \"notifications\": null}, \"geo\": null, \"coordinates\": null, \"place\": null, \"contributors\": null, \"quoted_status_id\": 936438127954194433, \"quoted_status_id_str\": \"936438127954194433\", \"quoted_status\": {\"created_at\": \"Fri Dec 01 03:33:42 +0000 2017\", \"id\": 936438127954194433, \"id_str\": \"936438127954194433\", \"text\": \"I\\\\u2019ve been meaning to ask \\\\ud83e\\\\udd37\\\\ud83c\\\\udffb\\\\u200d\\\\u2642\\\\ufe0f https://t.co/E1wVqaupDM\", \"display_text_range\": [0, 30], \"source\": \"<a href=\\\\\"http://twitter.com/download/iphone\\\\\" rel=\\\\\"nofollow\\\\\">Twitter for iPhone</a>\", \"truncated\": false, \"in_reply_to_status_id\": null, \"in_reply_to_status_id_str\": null, \"in_reply_to_user_id\": null, \"in_reply_to_user_id_str\": null, \"in_reply_to_screen_name\": null, \"user\": {\"id\": 1705999584, \"id_str\": \"1705999584\", \"name\": \"Richmas\\\\ud83c\\\\udf84(4.0 SZN)\", \"screen_name\": \"alexfrommacedon\", \"location\": \"Mercedes / ATX\", \"url\": null, \"description\": \"There\\'s a hope still burning. John 8:32 The University of Texas \\\\u201821 \\\\ud83e\\\\udd18\\\\ud83c\\\\udffb\", \"translator_type\": \"none\", \"protected\": false, \"verified\": false, \"followers_count\": 781, \"friends_count\": 540, \"listed_count\": 8, \"favourites_count\": 4793, \"statuses_count\": 28248, \"created_at\": \"Wed Aug 28 01:30:31 +0000 2013\", \"utc_offset\": null, \"time_zone\": null, \"geo_enabled\": true, \"lang\": \"en\", \"contributors_enabled\": false, \"is_translator\": false, \"profile_background_color\": \"C0DEED\", \"profile_background_image_url\": \"http://abs.twimg.com/images/themes/theme1/bg.png\", \"profile_background_image_url_https\": \"https://abs.twimg.com/images/themes/theme1/bg.png\", \"profile_background_tile\": false, \"profile_link_color\": \"1DA1F2\", \"profile_sidebar_border_color\": \"C0DEED\", \"profile_sidebar_fill_color\": \"DDEEF6\", \"profile_text_color\": \"333333\", \"profile_use_background_image\": true, \"profile_image_url\": \"http://pbs.twimg.com/profile_images/928764655257997314/fsgPfa0p_normal.jpg\", \"profile_image_url_https\": \"https://pbs.twimg.com/profile_images/928764655257997314/fsgPfa0p_normal.jpg\", \"profile_banner_url\": \"https://pbs.twimg.com/profile_banners/1705999584/1512066894\", \"default_profile\": true, \"default_profile_image\": false, \"following\": null, \"follow_request_sent\": null, \"notifications\": null}, \"geo\": null, \"coordinates\": null, \"place\": null, \"contributors\": null, \"is_quote_status\": false, \"quote_count\": 7, \"reply_count\": 0, \"retweet_count\": 0, \"favorite_count\": 0, \"entities\": {\"hashtags\": [], \"urls\": [], \"user_mentions\": [], \"symbols\": [], \"media\": [{\"id\": 936438120844640257, \"id_str\": \"936438120844640257\", \"indices\": [31, 54], \"media_url\": \"http://pbs.twimg.com/media/DP7lgmsUQAEJ98p.jpg\", \"media_url_https\": \"https://pbs.twimg.com/media/DP7lgmsUQAEJ98p.jpg\", \"url\": \"https://t.co/E1wVqaupDM\", \"display_url\": \"pic.twitter.com/E1wVqaupDM\", \"expanded_url\": \"https://twitter.com/alexfrommacedon/status/936438127954194433/photo/1\", \"type\": \"photo\", \"sizes\": {\"small\": {\"w\": 576, \"h\": 518, \"resize\": \"fit\"}, \"medium\": {\"w\": 576, \"h\": 518, \"resize\": \"fit\"}, \"large\": {\"w\": 576, \"h\": 518, \"resize\": \"fit\"}, \"thumb\": {\"w\": 150, \"h\": 150, \"resize\": \"crop\"}}}]}, \"extended_entities\": {\"media\": [{\"id\": 936438120844640257, \"id_str\": \"936438120844640257\", \"indices\": [31, 54], \"media_url\": \"http://pbs.twimg.com/media/DP7lgmsUQAEJ98p.jpg\", \"media_url_https\": \"https://pbs.twimg.com/media/DP7lgmsUQAEJ98p.jpg\", \"url\": \"https://t.co/E1wVqaupDM\", \"display_url\": \"pic.twitter.com/E1wVqaupDM\", \"expanded_url\": \"https://twitter.com/alexfrommacedon/status/936438127954194433/photo/1\", \"type\": \"photo\", \"sizes\": {\"small\": {\"w\": 576, \"h\": 518, \"resize\": \"fit\"}, \"medium\": {\"w\": 576, \"h\": 518, \"resize\": \"fit\"}, \"large\": {\"w\": 576, \"h\": 518, \"resize\": \"fit\"}, \"thumb\": {\"w\": 150, \"h\": 150, \"resize\": \"crop\"}}}]}, \"favorited\": false, \"retweeted\": false, \"possibly_sensitive\": false, \"filter_level\": \"low\", \"lang\": \"en\"}, \"is_quote_status\": true, \"quote_count\": 1, \"reply_count\": 0, \"retweet_count\": 1, \"favorite_count\": 0, \"entities\": {\"hashtags\": [], \"urls\": [{\"url\": \"https://t.co/gZALaBNFsv\", \"expanded_url\": \"https://twitter.com/alexfrommacedon/status/936438127954194433\", \"display_url\": \"twitter.com/alexfrommacedo\\\\u2026\", \"indices\": [34, 57]}], \"user_mentions\": [], \"symbols\": []}, \"favorited\": false, \"retweeted\": false, \"possibly_sensitive\": false, \"filter_level\": \"low\", \"lang\": \"en\"}, \"quoted_status_id\": 936438127954194433, \"quoted_status_id_str\": \"936438127954194433\", \"quoted_status\": {\"created_at\": \"Fri Dec 01 03:33:42 +0000 2017\", \"id\": 936438127954194433, \"id_str\": \"936438127954194433\", \"text\": \"I\\\\u2019ve been meaning to ask \\\\ud83e\\\\udd37\\\\ud83c\\\\udffb\\\\u200d\\\\u2642\\\\ufe0f https://t.co/E1wVqaupDM\", \"display_text_range\": [0, 30], \"source\": \"<a href=\\\\\"http://twitter.com/download/iphone\\\\\" rel=\\\\\"nofollow\\\\\">Twitter for iPhone</a>\", \"truncated\": false, \"in_reply_to_status_id\": null, \"in_reply_to_status_id_str\": null, \"in_reply_to_user_id\": null, \"in_reply_to_user_id_str\": null, \"in_reply_to_screen_name\": null, \"user\": {\"id\": 1705999584, \"id_str\": \"1705999584\", \"name\": \"Richmas\\\\ud83c\\\\udf84(4.0 SZN)\", \"screen_name\": \"alexfrommacedon\", \"location\": \"Mercedes / ATX\", \"url\": null, \"description\": \"There\\'s a hope still burning. John 8:32 The University of Texas \\\\u201821 \\\\ud83e\\\\udd18\\\\ud83c\\\\udffb\", \"translator_type\": \"none\", \"protected\": false, \"verified\": false, \"followers_count\": 781, \"friends_count\": 540, \"listed_count\": 8, \"favourites_count\": 4793, \"statuses_count\": 28248, \"created_at\": \"Wed Aug 28 01:30:31 +0000 2013\", \"utc_offset\": null, \"time_zone\": null, \"geo_enabled\": true, \"lang\": \"en\", \"contributors_enabled\": false, \"is_translator\": false, \"profile_background_color\": \"C0DEED\", \"profile_background_image_url\": \"http://abs.twimg.com/images/themes/theme1/bg.png\", \"profile_background_image_url_https\": \"https://abs.twimg.com/images/themes/theme1/bg.png\", \"profile_background_tile\": false, \"profile_link_color\": \"1DA1F2\", \"profile_sidebar_border_color\": \"C0DEED\", \"profile_sidebar_fill_color\": \"DDEEF6\", \"profile_text_color\": \"333333\", \"profile_use_background_image\": true, \"profile_image_url\": \"http://pbs.twimg.com/profile_images/928764655257997314/fsgPfa0p_normal.jpg\", \"profile_image_url_https\": \"https://pbs.twimg.com/profile_images/928764655257997314/fsgPfa0p_normal.jpg\", \"profile_banner_url\": \"https://pbs.twimg.com/profile_banners/1705999584/1512066894\", \"default_profile\": true, \"default_profile_image\": false, \"following\": null, \"follow_request_sent\": null, \"notifications\": null}, \"geo\": null, \"coordinates\": null, \"place\": null, \"contributors\": null, \"is_quote_status\": false, \"quote_count\": 7, \"reply_count\": 0, \"retweet_count\": 0, \"favorite_count\": 0, \"entities\": {\"hashtags\": [], \"urls\": [], \"user_mentions\": [], \"symbols\": [], \"media\": [{\"id\": 936438120844640257, \"id_str\": \"936438120844640257\", \"indices\": [31, 54], \"media_url\": \"http://pbs.twimg.com/media/DP7lgmsUQAEJ98p.jpg\", \"media_url_https\": \"https://pbs.twimg.com/media/DP7lgmsUQAEJ98p.jpg\", \"url\": \"https://t.co/E1wVqaupDM\", \"display_url\": \"pic.twitter.com/E1wVqaupDM\", \"expanded_url\": \"https://twitter.com/alexfrommacedon/status/936438127954194433/photo/1\", \"type\": \"photo\", \"sizes\": {\"small\": {\"w\": 576, \"h\": 518, \"resize\": \"fit\"}, \"medium\": {\"w\": 576, \"h\": 518, \"resize\": \"fit\"}, \"large\": {\"w\": 576, \"h\": 518, \"resize\": \"fit\"}, \"thumb\": {\"w\": 150, \"h\": 150, \"resize\": \"crop\"}}}]}, \"extended_entities\": {\"media\": [{\"id\": 936438120844640257, \"id_str\": \"936438120844640257\", \"indices\": [31, 54], \"media_url\": \"http://pbs.twimg.com/media/DP7lgmsUQAEJ98p.jpg\", \"media_url_https\": \"https://pbs.twimg.com/media/DP7lgmsUQAEJ98p.jpg\", \"url\": \"https://t.co/E1wVqaupDM\", \"display_url\": \"pic.twitter.com/E1wVqaupDM\", \"expanded_url\": \"https://twitter.com/alexfrommacedon/status/936438127954194433/photo/1\", \"type\": \"photo\", \"sizes\": {\"small\": {\"w\": 576, \"h\": 518, \"resize\": \"fit\"}, \"medium\": {\"w\": 576, \"h\": 518, \"resize\": \"fit\"}, \"large\": {\"w\": 576, \"h\": 518, \"resize\": \"fit\"}, \"thumb\": {\"w\": 150, \"h\": 150, \"resize\": \"crop\"}}}]}, \"favorited\": false, \"retweeted\": false, \"possibly_sensitive\": false, \"filter_level\": \"low\", \"lang\": \"en\"}, \"is_quote_status\": true, \"quote_count\": 0, \"reply_count\": 0, \"retweet_count\": 0, \"favorite_count\": 0, \"entities\": {\"hashtags\": [], \"urls\": [{\"url\": \"https://t.co/gZALaBNFsv\", \"expanded_url\": \"https://twitter.com/alexfrommacedon/status/936438127954194433\", \"display_url\": \"twitter.com/alexfrommacedo\\\\u2026\", \"indices\": [55, 78]}], \"user_mentions\": [{\"screen_name\": \"melaniexbarrera\", \"name\": \"\\\\u24dc \\\\u24d4 \\\\u24db\", \"id\": 769416939571601408, \"id_str\": \"769416939571601408\", \"indices\": [3, 19]}], \"symbols\": []}, \"favorited\": false, \"retweeted\": false, \"possibly_sensitive\": false, \"filter_level\": \"low\", \"lang\": \"en\", \"timestamp_ms\": \"1512103985663\"}'"
   ]
  },
  {
   "cell_type": "code",
   "execution_count": null,
   "metadata": {
    "ExecuteTime": {
     "end_time": "2017-12-26T21:37:34.794692Z",
     "start_time": "2017-12-26T21:37:34.784603Z"
    },
    "collapsed": true,
    "hidden": true
   },
   "outputs": [],
   "source": [
    "tweet = tweeta.TweetaTweet(line)"
   ]
  },
  {
   "cell_type": "code",
   "execution_count": null,
   "metadata": {
    "ExecuteTime": {
     "end_time": "2017-12-26T21:37:35.500229Z",
     "start_time": "2017-12-26T21:37:35.490127Z"
    },
    "collapsed": true,
    "hidden": true
   },
   "outputs": [],
   "source": [
    "tweet.is_quote()"
   ]
  },
  {
   "cell_type": "code",
   "execution_count": null,
   "metadata": {
    "ExecuteTime": {
     "end_time": "2017-12-26T21:37:59.735103Z",
     "start_time": "2017-12-26T21:37:59.722518Z"
    },
    "collapsed": true,
    "hidden": true
   },
   "outputs": [],
   "source": [
    "tweet.get('quoted_status')"
   ]
  },
  {
   "cell_type": "markdown",
   "metadata": {
    "heading_collapsed": true
   },
   "source": [
    "### Extract mentions (either from `entities` or `text`)"
   ]
  },
  {
   "cell_type": "markdown",
   "metadata": {
    "heading_collapsed": true,
    "hidden": true
   },
   "source": [
    "#### From text"
   ]
  },
  {
   "cell_type": "code",
   "execution_count": null,
   "metadata": {
    "ExecuteTime": {
     "end_time": "2017-12-26T20:26:50.213980Z",
     "start_time": "2017-12-26T20:26:50.194868Z"
    },
    "collapsed": true,
    "hidden": true
   },
   "outputs": [],
   "source": [
    "from tweeta.text import extract_mentions"
   ]
  },
  {
   "cell_type": "code",
   "execution_count": null,
   "metadata": {
    "ExecuteTime": {
     "end_time": "2017-12-26T20:26:50.506251Z",
     "start_time": "2017-12-26T20:26:50.482960Z"
    },
    "collapsed": true,
    "hidden": true
   },
   "outputs": [],
   "source": [
    "tweet._mentions_from_text()"
   ]
  },
  {
   "cell_type": "code",
   "execution_count": null,
   "metadata": {
    "ExecuteTime": {
     "end_time": "2017-12-26T20:00:20.367973Z",
     "start_time": "2017-12-26T20:00:20.361370Z"
    },
    "collapsed": true,
    "hidden": true
   },
   "outputs": [],
   "source": [
    "text = tweet.text()"
   ]
  },
  {
   "cell_type": "code",
   "execution_count": null,
   "metadata": {
    "ExecuteTime": {
     "end_time": "2017-12-26T20:28:22.244519Z",
     "start_time": "2017-12-26T20:28:22.232634Z"
    },
    "collapsed": true,
    "hidden": true
   },
   "outputs": [],
   "source": [
    "extract_mentions(\"whatever\")"
   ]
  },
  {
   "cell_type": "code",
   "execution_count": null,
   "metadata": {
    "ExecuteTime": {
     "end_time": "2017-12-26T20:03:00.529634Z",
     "start_time": "2017-12-26T20:03:00.508763Z"
    },
    "collapsed": true,
    "hidden": true
   },
   "outputs": [],
   "source": [
    "import re\n",
    "VALID_MENTION_PRECEDING_CHARS = '(?:^|[^a-zA-Z0-9_!#$%&*@＠]|(?:^|[^a-zA-Z0-9_+~.-])(?:rt|RT|rT|Rt):?)'\n",
    "AT_SIGNS = '[@＠]'\n",
    "\n",
    "VALID_MENTION  = '('                                       # $0: whole match\n",
    "VALID_MENTION += '(%s)'%(VALID_MENTION_PRECEDING_CHARS)    # $1: Preceding character\n",
    "VALID_MENTION += '('                                       # $2: mention\n",
    "VALID_MENTION += '(%s)'%(AT_SIGNS)                         # $3: At mark\n",
    "VALID_MENTION += '([a-zA-Z0-9_]{1,20})'                    # $4: Screen name\n",
    "VALID_MENTION += '(\\/[a-zA-Z][a-zA-Z0-9_\\-]{0,24})?'       # $5: List (optional)\n",
    "VALID_MENTION += ')'\n",
    "VALID_MENTION += ')'\n",
    "\n",
    "MENTION_RE = re.compile(VALID_MENTION, re.MULTILINE | re.DOTALL | re.UNICODE)"
   ]
  },
  {
   "cell_type": "code",
   "execution_count": null,
   "metadata": {
    "ExecuteTime": {
     "end_time": "2017-12-26T20:03:07.661377Z",
     "start_time": "2017-12-26T20:03:07.652237Z"
    },
    "collapsed": true,
    "hidden": true
   },
   "outputs": [],
   "source": [
    "[m[2] for m in MENTION_RE.findall(text)]"
   ]
  },
  {
   "cell_type": "markdown",
   "metadata": {
    "heading_collapsed": true,
    "hidden": true
   },
   "source": [
    "#### From entities"
   ]
  },
  {
   "cell_type": "code",
   "execution_count": null,
   "metadata": {
    "ExecuteTime": {
     "end_time": "2017-12-26T20:41:36.731357Z",
     "start_time": "2017-12-26T20:41:36.712324Z"
    },
    "collapsed": true,
    "hidden": true
   },
   "outputs": [],
   "source": [
    "tweet.get('entities')"
   ]
  },
  {
   "cell_type": "code",
   "execution_count": null,
   "metadata": {
    "ExecuteTime": {
     "end_time": "2017-12-26T20:27:26.146125Z",
     "start_time": "2017-12-26T20:27:26.122187Z"
    },
    "collapsed": true,
    "hidden": true
   },
   "outputs": [],
   "source": [
    "tweet._mentions_from_entities()"
   ]
  },
  {
   "cell_type": "code",
   "execution_count": null,
   "metadata": {
    "ExecuteTime": {
     "end_time": "2017-12-26T20:29:40.325179Z",
     "start_time": "2017-12-26T20:29:40.303116Z"
    },
    "collapsed": true,
    "hidden": true
   },
   "outputs": [],
   "source": [
    "tweet.mentions()"
   ]
  },
  {
   "cell_type": "markdown",
   "metadata": {
    "heading_collapsed": true
   },
   "source": [
    "### Remove mentions from text"
   ]
  },
  {
   "cell_type": "code",
   "execution_count": null,
   "metadata": {
    "ExecuteTime": {
     "end_time": "2018-01-23T01:03:35.429062Z",
     "start_time": "2018-01-23T01:03:35.421587Z"
    },
    "collapsed": true,
    "hidden": true
   },
   "outputs": [],
   "source": [
    "tweet.mentions()"
   ]
  },
  {
   "cell_type": "code",
   "execution_count": null,
   "metadata": {
    "ExecuteTime": {
     "end_time": "2018-01-23T01:03:43.333654Z",
     "start_time": "2018-01-23T01:03:43.325532Z"
    },
    "collapsed": true,
    "hidden": true
   },
   "outputs": [],
   "source": [
    "tweet.text()"
   ]
  },
  {
   "cell_type": "code",
   "execution_count": 2,
   "metadata": {
    "ExecuteTime": {
     "end_time": "2018-01-23T01:06:18.805670Z",
     "start_time": "2018-01-23T01:06:18.798494Z"
    },
    "hidden": true
   },
   "outputs": [
    {
     "data": {
      "text/plain": [
       "': Q: alcohol Krystal likes the most: wine\\nQ: person she looked for during hard times: family\\nQ: nickname she likes th… '"
      ]
     },
     "execution_count": 2,
     "metadata": {},
     "output_type": "execute_result"
    }
   ],
   "source": [
    "tweeta.text.remove_mentions(tweet.text())"
   ]
  },
  {
   "cell_type": "code",
   "execution_count": 3,
   "metadata": {
    "ExecuteTime": {
     "end_time": "2018-01-23T01:06:34.055004Z",
     "start_time": "2018-01-23T01:06:34.051276Z"
    },
    "hidden": true
   },
   "outputs": [
    {
     "data": {
      "text/plain": [
       "': Q: alcohol Krystal likes the most: wine\\nQ: person she looked for during hard times: family\\nQ: nickname she likes th… '"
      ]
     },
     "execution_count": 3,
     "metadata": {},
     "output_type": "execute_result"
    }
   ],
   "source": [
    "tweet.remove_mentions(tweet.text())"
   ]
  },
  {
   "cell_type": "markdown",
   "metadata": {
    "heading_collapsed": true
   },
   "source": [
    "### Extract hashtags"
   ]
  },
  {
   "cell_type": "markdown",
   "metadata": {
    "hidden": true
   },
   "source": [
    "#### From text"
   ]
  },
  {
   "cell_type": "code",
   "execution_count": null,
   "metadata": {
    "ExecuteTime": {
     "end_time": "2017-12-26T21:02:44.936646Z",
     "start_time": "2017-12-26T21:02:44.928651Z"
    },
    "collapsed": true,
    "hidden": true
   },
   "outputs": [],
   "source": [
    "line = r'{\"favorited\": false, \"text\": \"Stasiun TV yang tetap menggelar perayaan tahun baru besar-besaran dan mewah sungguh keterlaluan!!!! #GusDur wafat\", \"in_reply_to_user_id\": null, \"in_reply_to_status_id\": null, \"in_reply_to_screen_name\": null, \"geo\": null, \"source\": \"<a href=\\\"http://dabr.co.uk\\\" rel=\\\"nofollow\\\">dabr</a>\", \"created_at\": \"Thu Dec 31 00:00:00 +0000 2009\", \"user\": {\"profile_sidebar_fill_color\": \"A0C5C7\", \"profile_background_tile\": false, \"url\": \"http://www.jurpro.net\", \"profile_sidebar_border_color\": \"86A4A6\", \"verified\": false, \"followers_count\": 40, \"description\": \"\", \"friends_count\": 46, \"geo_enabled\": false, \"profile_background_color\": \"709397\", \"favourites_count\": 1, \"created_at\": \"Sun Sep 20 16:25:19 +0000 2009\", \"notifications\": null, \"profile_text_color\": \"333333\", \"protected\": false, \"profile_image_url\": \"http://a3.twimg.com/profile_images/600299075/Arif_Lukman_normal.jpg\", \"time_zone\": \"Jakarta\", \"location\": \"Bandung\", \"name\": \"Arif Lukman\", \"statuses_count\": 680, \"following\": null, \"profile_link_color\": \"FF3300\", \"screen_name\": \"ariflukmanbdg\", \"id\": 75819470, \"profile_background_image_url\": \"http://s.twimg.com/a/1262113883/images/themes/theme6/bg.gif\", \"utc_offset\": 25200}, \"truncated\": false, \"id\": 7213643202}'"
   ]
  },
  {
   "cell_type": "code",
   "execution_count": null,
   "metadata": {
    "ExecuteTime": {
     "end_time": "2017-12-26T20:55:31.419703Z",
     "start_time": "2017-12-26T20:55:31.409582Z"
    },
    "collapsed": true,
    "hidden": true
   },
   "outputs": [],
   "source": [
    "tweet = tweeta.TweetaTweet(line)"
   ]
  },
  {
   "cell_type": "code",
   "execution_count": null,
   "metadata": {
    "ExecuteTime": {
     "end_time": "2017-12-26T20:55:32.009136Z",
     "start_time": "2017-12-26T20:55:31.999581Z"
    },
    "collapsed": true,
    "hidden": true
   },
   "outputs": [],
   "source": [
    "from tweeta.text import extract_hashtags"
   ]
  },
  {
   "cell_type": "code",
   "execution_count": null,
   "metadata": {
    "ExecuteTime": {
     "end_time": "2017-12-26T20:55:43.496346Z",
     "start_time": "2017-12-26T20:55:43.482372Z"
    },
    "collapsed": true,
    "hidden": true
   },
   "outputs": [],
   "source": [
    "extract_hashtags(tweet.text())"
   ]
  },
  {
   "cell_type": "code",
   "execution_count": null,
   "metadata": {
    "ExecuteTime": {
     "end_time": "2017-12-26T20:48:51.243943Z",
     "start_time": "2017-12-26T20:48:51.236958Z"
    },
    "collapsed": true,
    "hidden": true,
    "scrolled": true
   },
   "outputs": [],
   "source": [
    "extract_hashtags(\" WHATE #HSDF #中文 \")"
   ]
  },
  {
   "cell_type": "markdown",
   "metadata": {
    "hidden": true
   },
   "source": [
    "#### From entities"
   ]
  },
  {
   "cell_type": "code",
   "execution_count": null,
   "metadata": {
    "ExecuteTime": {
     "end_time": "2017-12-26T21:02:48.378143Z",
     "start_time": "2017-12-26T21:02:48.297163Z"
    },
    "collapsed": true,
    "hidden": true
   },
   "outputs": [],
   "source": [
    "line = r'{\"created_at\": \"Fri Dec 01 04:53:05 +0000 2017\", \"id\": 936458105931599872, \"id_str\": \"936458105931599872\", \"text\": \"RT @Abdulra71165161: \\ud83d\\udcab\\ud83c\\udf37\\u0644\\u062d\\u0645\\u0627\\u064a\\u0629 \\u0627\\u0631\\u0636\\u064a\\u062a\\u0643 \\u0628\\u0634\\u0643\\u0644 \\u0627\\u0646\\u064a\\u0642 \\u0648\\u0639\\u0635\\u0631\\u064a\\n\\ud83d\\udcab\\ud83c\\udf37\\u0644\\u0644\\u0627\\u0633\\u062a\\u0641\\u0633\\u0627\\u0631\\ud83d\\udc47\\ud83c\\udffb\\n\\ud83d\\udcf10501374440\\n #\\u0645\\u0648\\u0627\\u0644\\u064a\\u062f_\\u062f\\u064a\\u0633\\u0645\\u0628\\u0631 https://t.co/rsUj7yupLs\", \"source\": \"<a href=\\\"http://twitter.com/download/android\\\" rel=\\\"nofollow\\\">Twitter for Android</a>\", \"truncated\": false, \"in_reply_to_status_id\": null, \"in_reply_to_status_id_str\": null, \"in_reply_to_user_id\": null, \"in_reply_to_user_id_str\": null, \"in_reply_to_screen_name\": null, \"user\": {\"id\": 3435244280, \"id_str\": \"3435244280\", \"name\": \"\\u0634\\u0639\\u0627\\u0639 \\u0627\\u0644\\u0646\\u0648\\u0631 \\u2075\\u2075\\u1d37\", \"screen_name\": \"mngom95\", \"location\": \"\\u0627\\u0644\\u0631\\u064a\\u0627\\u0636\", \"url\": null, \"description\": \"#\\u0645\\u0648\\u0627\\u0641\\u0642\\u0629_\\u062a\\u0628\\u0627\\u062f\\u0644 #\\u062b\\u0642\\u0629_\\u0645\\u0646_\\u0645\\u0641\\u0636\\u0644\\u062a\\u0649 \\ud83c\\udf20\\u062a\\u0628\\u0627\\u062f\\u0644 \\ud83c\\udf1f5/5 \\ud83c\\udf1f  \\ud83c\\udf1f\\u0644\\u0627 \\u062a\\u0633\\u062a\\u0623\\u0630\\u0646 \\u0623\\u062f\\u062e\\u0644 \\u0645\\u0641\\u0636\\u0644\\u062a\\u064a \\u0647\\u0627\\u062a 5 \\u0648\\u0639\\u0637\\u0646\\u064a \\u062a\\u0645 \\u0648\\u0644\\u0643 \\u0628\\u0627\\u0644\\u0645\\u062b\\u0644\\ud83c\\udf1f\", \"translator_type\": \"none\", \"protected\": false, \"verified\": false, \"followers_count\": 59928, \"friends_count\": 56654, \"listed_count\": 308, \"favourites_count\": 869, \"statuses_count\": 67749, \"created_at\": \"Thu Sep 03 09:04:46 +0000 2015\", \"utc_offset\": -28800, \"time_zone\": \"Pacific Time (US & Canada)\", \"geo_enabled\": false, \"lang\": \"ar\", \"contributors_enabled\": false, \"is_translator\": false, \"profile_background_color\": \"C0DEED\", \"profile_background_image_url\": \"http://abs.twimg.com/images/themes/theme1/bg.png\", \"profile_background_image_url_https\": \"https://abs.twimg.com/images/themes/theme1/bg.png\", \"profile_background_tile\": false, \"profile_link_color\": \"1DA1F2\", \"profile_sidebar_border_color\": \"C0DEED\", \"profile_sidebar_fill_color\": \"DDEEF6\", \"profile_text_color\": \"333333\", \"profile_use_background_image\": true, \"profile_image_url\": \"http://pbs.twimg.com/profile_images/920674989501583361/aQOaHTDZ_normal.jpg\", \"profile_image_url_https\": \"https://pbs.twimg.com/profile_images/920674989501583361/aQOaHTDZ_normal.jpg\", \"profile_banner_url\": \"https://pbs.twimg.com/profile_banners/3435244280/1508341229\", \"default_profile\": true, \"default_profile_image\": false, \"following\": null, \"follow_request_sent\": null, \"notifications\": null}, \"geo\": null, \"coordinates\": null, \"place\": null, \"contributors\": null, \"retweeted_status\": {\"created_at\": \"Fri Dec 01 03:58:41 +0000 2017\", \"id\": 936444413966012416, \"id_str\": \"936444413966012416\", \"text\": \"\\ud83d\\udcab\\ud83c\\udf37\\u0644\\u062d\\u0645\\u0627\\u064a\\u0629 \\u0627\\u0631\\u0636\\u064a\\u062a\\u0643 \\u0628\\u0634\\u0643\\u0644 \\u0627\\u0646\\u064a\\u0642 \\u0648\\u0639\\u0635\\u0631\\u064a\\n\\ud83d\\udcab\\ud83c\\udf37\\u0644\\u0644\\u0627\\u0633\\u062a\\u0641\\u0633\\u0627\\u0631\\ud83d\\udc47\\ud83c\\udffb\\n\\ud83d\\udcf10501374440\\n #\\u0645\\u0648\\u0627\\u0644\\u064a\\u062f_\\u062f\\u064a\\u0633\\u0645\\u0628\\u0631 https://t.co/rsUj7yupLs\", \"display_text_range\": [0, 73], \"source\": \"<a href=\\\"http://twitter.com/download/iphone\\\" rel=\\\"nofollow\\\">Twitter for iPhone</a>\", \"truncated\": false, \"in_reply_to_status_id\": null, \"in_reply_to_status_id_str\": null, \"in_reply_to_user_id\": null, \"in_reply_to_user_id_str\": null, \"in_reply_to_screen_name\": null, \"user\": {\"id\": 845285819795591168, \"id_str\": \"845285819795591168\", \"name\": \"Abdulrahman123\", \"screen_name\": \"Abdulra71165161\", \"location\": \"\\u0627\\u0644\\u0645\\u0645\\u0644\\u0643\\u0629 \\u0627\\u0644\\u0639\\u0631\\u0628\\u064a\\u0629 \\u0627\\u0644\\u0633\\u0639\\u0648\\u062f\\u064a\\u0629\", \"url\": null, \"description\": \"....\\u200f\\u200f\\u062f\\u0644\\u0639 \\u0645\\u0648\\u062a\\u0631\\u0643.....  \\n\\u0627\\u0636\\u0641 \\u0644\\u0645\\u0633\\u0647 \\u062c\\u0645\\u0627\\u0644\\u064a\\u0647 \\u0645\\u0645\\u064a\\u0632\\u0647 \\u0644\\u062f\\u062e\\u0644\\u064a\\u0629 \\u0633\\u064a\\u0627\\u0631\\u062a\\u0643  \\n\\u062f\\u0639\\u0633\\u0627\\u062a \\u0623\\u0631\\u0636\\u064a\\u0647 \\u062c\\u0644\\u062f \\u0641\\u0627\\u062e\\u0631  \\u062a\\u0641\\u0635\\u064a\\u0644  \\u0644\\u0633\\u064a\\u0627\\u0631\\u0627\\u0643\\n\\u0644\\u062a\\u0648\\u0627\\u0635\\u0644 0501374440\", \"translator_type\": \"none\", \"protected\": false, \"verified\": false, \"followers_count\": 3286, \"friends_count\": 4990, \"listed_count\": 61, \"favourites_count\": 111, \"statuses_count\": 961, \"created_at\": \"Fri Mar 24 14:46:58 +0000 2017\", \"utc_offset\": null, \"time_zone\": null, \"geo_enabled\": false, \"lang\": \"ar\", \"contributors_enabled\": false, \"is_translator\": false, \"profile_background_color\": \"F5F8FA\", \"profile_background_image_url\": \"\", \"profile_background_image_url_https\": \"\", \"profile_background_tile\": false, \"profile_link_color\": \"1DA1F2\", \"profile_sidebar_border_color\": \"C0DEED\", \"profile_sidebar_fill_color\": \"DDEEF6\", \"profile_text_color\": \"333333\", \"profile_use_background_image\": true, \"profile_image_url\": \"http://pbs.twimg.com/profile_images/859110692548431873/8fKX6NxQ_normal.jpg\", \"profile_image_url_https\": \"https://pbs.twimg.com/profile_images/859110692548431873/8fKX6NxQ_normal.jpg\", \"profile_banner_url\": \"https://pbs.twimg.com/profile_banners/845285819795591168/1506812755\", \"default_profile\": true, \"default_profile_image\": false, \"following\": null, \"follow_request_sent\": null, \"notifications\": null}, \"geo\": null, \"coordinates\": null, \"place\": null, \"contributors\": null, \"is_quote_status\": false, \"quote_count\": 0, \"reply_count\": 0, \"retweet_count\": 18, \"favorite_count\": 2, \"entities\": {\"hashtags\": [{\"text\": \"\\u0645\\u0648\\u0627\\u0644\\u064a\\u062f_\\u062f\\u064a\\u0633\\u0645\\u0628\\u0631\", \"indices\": [59, 73]}], \"urls\": [], \"user_mentions\": [], \"symbols\": [], \"media\": [{\"id\": 936444374141100032, \"id_str\": \"936444374141100032\", \"indices\": [74, 97], \"media_url\": \"http://pbs.twimg.com/media/DP7rMmCX4AA1_S8.jpg\", \"media_url_https\": \"https://pbs.twimg.com/media/DP7rMmCX4AA1_S8.jpg\", \"url\": \"https://t.co/rsUj7yupLs\", \"display_url\": \"pic.twitter.com/rsUj7yupLs\", \"expanded_url\": \"https://twitter.com/Abdulra71165161/status/936444413966012416/photo/1\", \"type\": \"photo\", \"sizes\": {\"medium\": {\"w\": 900, \"h\": 1200, \"resize\": \"fit\"}, \"thumb\": {\"w\": 150, \"h\": 150, \"resize\": \"crop\"}, \"large\": {\"w\": 960, \"h\": 1280, \"resize\": \"fit\"}, \"small\": {\"w\": 510, \"h\": 680, \"resize\": \"fit\"}}}]}, \"extended_entities\": {\"media\": [{\"id\": 936444374141100032, \"id_str\": \"936444374141100032\", \"indices\": [74, 97], \"media_url\": \"http://pbs.twimg.com/media/DP7rMmCX4AA1_S8.jpg\", \"media_url_https\": \"https://pbs.twimg.com/media/DP7rMmCX4AA1_S8.jpg\", \"url\": \"https://t.co/rsUj7yupLs\", \"display_url\": \"pic.twitter.com/rsUj7yupLs\", \"expanded_url\": \"https://twitter.com/Abdulra71165161/status/936444413966012416/photo/1\", \"type\": \"photo\", \"sizes\": {\"medium\": {\"w\": 900, \"h\": 1200, \"resize\": \"fit\"}, \"thumb\": {\"w\": 150, \"h\": 150, \"resize\": \"crop\"}, \"large\": {\"w\": 960, \"h\": 1280, \"resize\": \"fit\"}, \"small\": {\"w\": 510, \"h\": 680, \"resize\": \"fit\"}}}, {\"id\": 936444374136840194, \"id_str\": \"936444374136840194\", \"indices\": [74, 97], \"media_url\": \"http://pbs.twimg.com/media/DP7rMmBW4AIyg7W.jpg\", \"media_url_https\": \"https://pbs.twimg.com/media/DP7rMmBW4AIyg7W.jpg\", \"url\": \"https://t.co/rsUj7yupLs\", \"display_url\": \"pic.twitter.com/rsUj7yupLs\", \"expanded_url\": \"https://twitter.com/Abdulra71165161/status/936444413966012416/photo/1\", \"type\": \"photo\", \"sizes\": {\"large\": {\"w\": 960, \"h\": 1280, \"resize\": \"fit\"}, \"thumb\": {\"w\": 150, \"h\": 150, \"resize\": \"crop\"}, \"small\": {\"w\": 510, \"h\": 680, \"resize\": \"fit\"}, \"medium\": {\"w\": 900, \"h\": 1200, \"resize\": \"fit\"}}}, {\"id\": 936444374195625984, \"id_str\": \"936444374195625984\", \"indices\": [74, 97], \"media_url\": \"http://pbs.twimg.com/media/DP7rMmPX4AABaL5.jpg\", \"media_url_https\": \"https://pbs.twimg.com/media/DP7rMmPX4AABaL5.jpg\", \"url\": \"https://t.co/rsUj7yupLs\", \"display_url\": \"pic.twitter.com/rsUj7yupLs\", \"expanded_url\": \"https://twitter.com/Abdulra71165161/status/936444413966012416/photo/1\", \"type\": \"photo\", \"sizes\": {\"medium\": {\"w\": 900, \"h\": 1200, \"resize\": \"fit\"}, \"small\": {\"w\": 510, \"h\": 680, \"resize\": \"fit\"}, \"large\": {\"w\": 960, \"h\": 1280, \"resize\": \"fit\"}, \"thumb\": {\"w\": 150, \"h\": 150, \"resize\": \"crop\"}}}, {\"id\": 936444374183043074, \"id_str\": \"936444374183043074\", \"indices\": [74, 97], \"media_url\": \"http://pbs.twimg.com/media/DP7rMmMX4AI4ns3.jpg\", \"media_url_https\": \"https://pbs.twimg.com/media/DP7rMmMX4AI4ns3.jpg\", \"url\": \"https://t.co/rsUj7yupLs\", \"display_url\": \"pic.twitter.com/rsUj7yupLs\", \"expanded_url\": \"https://twitter.com/Abdulra71165161/status/936444413966012416/photo/1\", \"type\": \"photo\", \"sizes\": {\"medium\": {\"w\": 900, \"h\": 1200, \"resize\": \"fit\"}, \"thumb\": {\"w\": 150, \"h\": 150, \"resize\": \"crop\"}, \"large\": {\"w\": 960, \"h\": 1280, \"resize\": \"fit\"}, \"small\": {\"w\": 510, \"h\": 680, \"resize\": \"fit\"}}}]}, \"favorited\": false, \"retweeted\": false, \"possibly_sensitive\": false, \"filter_level\": \"low\", \"lang\": \"ar\"}, \"is_quote_status\": false, \"quote_count\": 0, \"reply_count\": 0, \"retweet_count\": 0, \"favorite_count\": 0, \"entities\": {\"hashtags\": [{\"text\": \"\\u0645\\u0648\\u0627\\u0644\\u064a\\u062f_\\u062f\\u064a\\u0633\\u0645\\u0628\\u0631\", \"indices\": [80, 94]}], \"urls\": [], \"user_mentions\": [{\"screen_name\": \"Abdulra71165161\", \"name\": \"Abdulrahman123\", \"id\": 845285819795591168, \"id_str\": \"845285819795591168\", \"indices\": [3, 19]}], \"symbols\": [], \"media\": [{\"id\": 936444374141100032, \"id_str\": \"936444374141100032\", \"indices\": [95, 118], \"media_url\": \"http://pbs.twimg.com/media/DP7rMmCX4AA1_S8.jpg\", \"media_url_https\": \"https://pbs.twimg.com/media/DP7rMmCX4AA1_S8.jpg\", \"url\": \"https://t.co/rsUj7yupLs\", \"display_url\": \"pic.twitter.com/rsUj7yupLs\", \"expanded_url\": \"https://twitter.com/Abdulra71165161/status/936444413966012416/photo/1\", \"type\": \"photo\", \"sizes\": {\"medium\": {\"w\": 900, \"h\": 1200, \"resize\": \"fit\"}, \"thumb\": {\"w\": 150, \"h\": 150, \"resize\": \"crop\"}, \"large\": {\"w\": 960, \"h\": 1280, \"resize\": \"fit\"}, \"small\": {\"w\": 510, \"h\": 680, \"resize\": \"fit\"}}, \"source_status_id\": 936444413966012416, \"source_status_id_str\": \"936444413966012416\", \"source_user_id\": 845285819795591168, \"source_user_id_str\": \"845285819795591168\"}]}, \"extended_entities\": {\"media\": [{\"id\": 936444374141100032, \"id_str\": \"936444374141100032\", \"indices\": [95, 118], \"media_url\": \"http://pbs.twimg.com/media/DP7rMmCX4AA1_S8.jpg\", \"media_url_https\": \"https://pbs.twimg.com/media/DP7rMmCX4AA1_S8.jpg\", \"url\": \"https://t.co/rsUj7yupLs\", \"display_url\": \"pic.twitter.com/rsUj7yupLs\", \"expanded_url\": \"https://twitter.com/Abdulra71165161/status/936444413966012416/photo/1\", \"type\": \"photo\", \"sizes\": {\"medium\": {\"w\": 900, \"h\": 1200, \"resize\": \"fit\"}, \"thumb\": {\"w\": 150, \"h\": 150, \"resize\": \"crop\"}, \"large\": {\"w\": 960, \"h\": 1280, \"resize\": \"fit\"}, \"small\": {\"w\": 510, \"h\": 680, \"resize\": \"fit\"}}, \"source_status_id\": 936444413966012416, \"source_status_id_str\": \"936444413966012416\", \"source_user_id\": 845285819795591168, \"source_user_id_str\": \"845285819795591168\"}, {\"id\": 936444374136840194, \"id_str\": \"936444374136840194\", \"indices\": [95, 118], \"media_url\": \"http://pbs.twimg.com/media/DP7rMmBW4AIyg7W.jpg\", \"media_url_https\": \"https://pbs.twimg.com/media/DP7rMmBW4AIyg7W.jpg\", \"url\": \"https://t.co/rsUj7yupLs\", \"display_url\": \"pic.twitter.com/rsUj7yupLs\", \"expanded_url\": \"https://twitter.com/Abdulra71165161/status/936444413966012416/photo/1\", \"type\": \"photo\", \"sizes\": {\"large\": {\"w\": 960, \"h\": 1280, \"resize\": \"fit\"}, \"thumb\": {\"w\": 150, \"h\": 150, \"resize\": \"crop\"}, \"small\": {\"w\": 510, \"h\": 680, \"resize\": \"fit\"}, \"medium\": {\"w\": 900, \"h\": 1200, \"resize\": \"fit\"}}, \"source_status_id\": 936444413966012416, \"source_status_id_str\": \"936444413966012416\", \"source_user_id\": 845285819795591168, \"source_user_id_str\": \"845285819795591168\"}, {\"id\": 936444374195625984, \"id_str\": \"936444374195625984\", \"indices\": [95, 118], \"media_url\": \"http://pbs.twimg.com/media/DP7rMmPX4AABaL5.jpg\", \"media_url_https\": \"https://pbs.twimg.com/media/DP7rMmPX4AABaL5.jpg\", \"url\": \"https://t.co/rsUj7yupLs\", \"display_url\": \"pic.twitter.com/rsUj7yupLs\", \"expanded_url\": \"https://twitter.com/Abdulra71165161/status/936444413966012416/photo/1\", \"type\": \"photo\", \"sizes\": {\"medium\": {\"w\": 900, \"h\": 1200, \"resize\": \"fit\"}, \"small\": {\"w\": 510, \"h\": 680, \"resize\": \"fit\"}, \"large\": {\"w\": 960, \"h\": 1280, \"resize\": \"fit\"}, \"thumb\": {\"w\": 150, \"h\": 150, \"resize\": \"crop\"}}, \"source_status_id\": 936444413966012416, \"source_status_id_str\": \"936444413966012416\", \"source_user_id\": 845285819795591168, \"source_user_id_str\": \"845285819795591168\"}, {\"id\": 936444374183043074, \"id_str\": \"936444374183043074\", \"indices\": [95, 118], \"media_url\": \"http://pbs.twimg.com/media/DP7rMmMX4AI4ns3.jpg\", \"media_url_https\": \"https://pbs.twimg.com/media/DP7rMmMX4AI4ns3.jpg\", \"url\": \"https://t.co/rsUj7yupLs\", \"display_url\": \"pic.twitter.com/rsUj7yupLs\", \"expanded_url\": \"https://twitter.com/Abdulra71165161/status/936444413966012416/photo/1\", \"type\": \"photo\", \"sizes\": {\"medium\": {\"w\": 900, \"h\": 1200, \"resize\": \"fit\"}, \"thumb\": {\"w\": 150, \"h\": 150, \"resize\": \"crop\"}, \"large\": {\"w\": 960, \"h\": 1280, \"resize\": \"fit\"}, \"small\": {\"w\": 510, \"h\": 680, \"resize\": \"fit\"}}, \"source_status_id\": 936444413966012416, \"source_status_id_str\": \"936444413966012416\", \"source_user_id\": 845285819795591168, \"source_user_id_str\": \"845285819795591168\"}]}, \"favorited\": false, \"retweeted\": false, \"possibly_sensitive\": false, \"filter_level\": \"low\", \"lang\": \"ar\", \"timestamp_ms\": \"1512103985661\"}'"
   ]
  },
  {
   "cell_type": "code",
   "execution_count": null,
   "metadata": {
    "ExecuteTime": {
     "end_time": "2017-12-26T21:02:49.627275Z",
     "start_time": "2017-12-26T21:02:48.954547Z"
    },
    "collapsed": true,
    "hidden": true
   },
   "outputs": [],
   "source": [
    "tweet = tweeta.TweetaTweet(line)"
   ]
  },
  {
   "cell_type": "code",
   "execution_count": null,
   "metadata": {
    "ExecuteTime": {
     "end_time": "2017-12-26T21:02:50.378407Z",
     "start_time": "2017-12-26T21:02:50.307432Z"
    },
    "collapsed": true,
    "hidden": true
   },
   "outputs": [],
   "source": [
    "tweet.get('entities')"
   ]
  },
  {
   "cell_type": "code",
   "execution_count": null,
   "metadata": {
    "ExecuteTime": {
     "end_time": "2017-12-26T21:03:07.985181Z",
     "start_time": "2017-12-26T21:03:07.971988Z"
    },
    "collapsed": true,
    "hidden": true
   },
   "outputs": [],
   "source": [
    "tweet.hashtags()"
   ]
  },
  {
   "cell_type": "markdown",
   "metadata": {
    "heading_collapsed": true
   },
   "source": [
    "### Langugage detection"
   ]
  },
  {
   "cell_type": "code",
   "execution_count": null,
   "metadata": {
    "ExecuteTime": {
     "end_time": "2017-12-26T21:54:46.701074Z",
     "start_time": "2017-12-26T21:54:46.669286Z"
    },
    "collapsed": true,
    "hidden": true
   },
   "outputs": [],
   "source": [
    "tweet.is_en()"
   ]
  },
  {
   "cell_type": "code",
   "execution_count": null,
   "metadata": {
    "ExecuteTime": {
     "end_time": "2017-12-26T21:54:53.918613Z",
     "start_time": "2017-12-26T21:54:53.911265Z"
    },
    "collapsed": true,
    "hidden": true
   },
   "outputs": [],
   "source": [
    "tweet.get('lang')"
   ]
  },
  {
   "cell_type": "code",
   "execution_count": null,
   "metadata": {
    "ExecuteTime": {
     "end_time": "2017-12-26T21:54:59.545729Z",
     "start_time": "2017-12-26T21:54:59.538103Z"
    },
    "collapsed": true,
    "hidden": true
   },
   "outputs": [],
   "source": [
    "tweet.text()"
   ]
  },
  {
   "cell_type": "code",
   "execution_count": null,
   "metadata": {
    "ExecuteTime": {
     "end_time": "2017-12-26T21:55:31.321238Z",
     "start_time": "2017-12-26T21:55:31.314623Z"
    },
    "collapsed": true,
    "hidden": true
   },
   "outputs": [],
   "source": [
    "from tweeta.text import lang"
   ]
  },
  {
   "cell_type": "code",
   "execution_count": null,
   "metadata": {
    "ExecuteTime": {
     "end_time": "2017-12-26T21:55:41.479367Z",
     "start_time": "2017-12-26T21:55:41.464878Z"
    },
    "collapsed": true,
    "hidden": true
   },
   "outputs": [],
   "source": [
    "lang(tweet.text())"
   ]
  },
  {
   "cell_type": "code",
   "execution_count": null,
   "metadata": {
    "ExecuteTime": {
     "end_time": "2017-12-26T21:56:11.577565Z",
     "start_time": "2017-12-26T21:56:11.556094Z"
    },
    "collapsed": true,
    "hidden": true
   },
   "outputs": [],
   "source": [
    "lang(\" WHATE #HSDF #中文 \")"
   ]
  },
  {
   "cell_type": "code",
   "execution_count": null,
   "metadata": {
    "ExecuteTime": {
     "end_time": "2017-12-26T21:57:30.591917Z",
     "start_time": "2017-12-26T21:57:30.582187Z"
    },
    "collapsed": true,
    "hidden": true
   },
   "outputs": [],
   "source": [
    "tweet.get('user')"
   ]
  },
  {
   "cell_type": "code",
   "execution_count": null,
   "metadata": {
    "ExecuteTime": {
     "end_time": "2017-12-26T22:01:13.149266Z",
     "start_time": "2017-12-26T22:01:13.147019Z"
    },
    "collapsed": true,
    "hidden": true
   },
   "outputs": [],
   "source": [
    "del tweet._tweet['user']['lang']"
   ]
  },
  {
   "cell_type": "code",
   "execution_count": null,
   "metadata": {
    "ExecuteTime": {
     "end_time": "2017-12-26T22:01:13.883183Z",
     "start_time": "2017-12-26T22:01:13.879534Z"
    },
    "collapsed": true,
    "hidden": true
   },
   "outputs": [],
   "source": [
    "tweet.is_user_en()"
   ]
  },
  {
   "cell_type": "markdown",
   "metadata": {
    "heading_collapsed": true
   },
   "source": [
    "### Text cleanning"
   ]
  },
  {
   "cell_type": "code",
   "execution_count": null,
   "metadata": {
    "ExecuteTime": {
     "end_time": "2017-12-26T22:16:12.994655Z",
     "start_time": "2017-12-26T22:16:12.987023Z"
    },
    "collapsed": true,
    "hidden": true
   },
   "outputs": [],
   "source": [
    "from tweeta.text import sanitize_nofunccall"
   ]
  },
  {
   "cell_type": "code",
   "execution_count": null,
   "metadata": {
    "ExecuteTime": {
     "end_time": "2017-12-26T22:16:57.750050Z",
     "start_time": "2017-12-26T22:16:57.740025Z"
    },
    "collapsed": true,
    "hidden": true
   },
   "outputs": [],
   "source": [
    "sanitize_nofunccall(\"whatever me/you\\n whatever\\n\")"
   ]
  },
  {
   "cell_type": "markdown",
   "metadata": {
    "heading_collapsed": true
   },
   "source": [
    "### is_geotagged"
   ]
  },
  {
   "cell_type": "code",
   "execution_count": null,
   "metadata": {
    "ExecuteTime": {
     "end_time": "2017-12-26T22:24:37.051153Z",
     "start_time": "2017-12-26T22:24:37.027736Z"
    },
    "collapsed": true,
    "hidden": true
   },
   "outputs": [],
   "source": [
    "tweet.is_geotagged()"
   ]
  },
  {
   "cell_type": "markdown",
   "metadata": {},
   "source": [
    "### is_deleted()"
   ]
  },
  {
   "cell_type": "code",
   "execution_count": null,
   "metadata": {
    "ExecuteTime": {
     "end_time": "2017-12-26T23:23:10.718635Z",
     "start_time": "2017-12-26T23:23:10.671206Z"
    },
    "collapsed": true
   },
   "outputs": [],
   "source": [
    "import tweeta\n",
    "\n",
    "line = r'{\"delete\":{\"status\":{\"id\":3061373903,\"user_id\":57136355}}}'\n",
    "tweet = tweeta.TweetaTweet(line)"
   ]
  },
  {
   "cell_type": "code",
   "execution_count": null,
   "metadata": {
    "ExecuteTime": {
     "end_time": "2017-12-26T23:23:10.990470Z",
     "start_time": "2017-12-26T23:23:10.956778Z"
    },
    "collapsed": true
   },
   "outputs": [],
   "source": [
    "tweet.is_deleted()"
   ]
  },
  {
   "cell_type": "markdown",
   "metadata": {},
   "source": [
    "### user name/screen_name"
   ]
  },
  {
   "cell_type": "code",
   "execution_count": 6,
   "metadata": {
    "ExecuteTime": {
     "end_time": "2018-02-09T01:18:12.890850Z",
     "start_time": "2018-02-09T01:18:12.884137Z"
    }
   },
   "outputs": [
    {
     "data": {
      "text/plain": [
       "'empresshwang'"
      ]
     },
     "execution_count": 6,
     "metadata": {},
     "output_type": "execute_result"
    }
   ],
   "source": [
    "tweet.user_screen_name()"
   ]
  },
  {
   "cell_type": "markdown",
   "metadata": {
    "heading_collapsed": true
   },
   "source": [
    "### user description"
   ]
  },
  {
   "cell_type": "code",
   "execution_count": null,
   "metadata": {
    "ExecuteTime": {
     "end_time": "2017-12-26T23:37:51.584254Z",
     "start_time": "2017-12-26T23:37:51.575904Z"
    },
    "collapsed": true,
    "hidden": true
   },
   "outputs": [],
   "source": [
    "tweeta.text.sanitize_nofunccall(tweet.user_description())"
   ]
  },
  {
   "cell_type": "code",
   "execution_count": null,
   "metadata": {
    "ExecuteTime": {
     "end_time": "2017-12-26T23:38:07.297624Z",
     "start_time": "2017-12-26T23:38:07.285934Z"
    },
    "collapsed": true,
    "hidden": true
   },
   "outputs": [],
   "source": [
    "tweet.user_description()"
   ]
  },
  {
   "cell_type": "markdown",
   "metadata": {
    "heading_collapsed": true
   },
   "source": [
    "### id/id_str"
   ]
  },
  {
   "cell_type": "code",
   "execution_count": null,
   "metadata": {
    "ExecuteTime": {
     "start_time": "2017-12-26T23:54:46.218Z"
    },
    "collapsed": true,
    "hidden": true,
    "scrolled": true
   },
   "outputs": [],
   "source": [
    "builtins.reload(tweeta)"
   ]
  },
  {
   "cell_type": "code",
   "execution_count": null,
   "metadata": {
    "ExecuteTime": {
     "end_time": "2017-12-27T00:29:40.015159Z",
     "start_time": "2017-12-27T00:29:40.006420Z"
    },
    "collapsed": true,
    "hidden": true
   },
   "outputs": [],
   "source": [
    "tweet.tweet_id()"
   ]
  },
  {
   "cell_type": "code",
   "execution_count": null,
   "metadata": {
    "ExecuteTime": {
     "end_time": "2017-12-27T00:29:40.834544Z",
     "start_time": "2017-12-27T00:29:40.829701Z"
    },
    "collapsed": true,
    "hidden": true
   },
   "outputs": [],
   "source": [
    "tweet.user_id()"
   ]
  },
  {
   "cell_type": "markdown",
   "metadata": {
    "heading_collapsed": true
   },
   "source": [
    "### json"
   ]
  },
  {
   "cell_type": "code",
   "execution_count": null,
   "metadata": {
    "ExecuteTime": {
     "end_time": "2017-12-27T00:33:10.393454Z",
     "start_time": "2017-12-27T00:33:10.373912Z"
    },
    "collapsed": true,
    "hidden": true
   },
   "outputs": [],
   "source": [
    "tweet.json()"
   ]
  },
  {
   "cell_type": "markdown",
   "metadata": {
    "heading_collapsed": true
   },
   "source": [
    "### urls"
   ]
  },
  {
   "cell_type": "code",
   "execution_count": null,
   "metadata": {
    "ExecuteTime": {
     "end_time": "2017-12-27T00:50:02.841696Z",
     "start_time": "2017-12-27T00:50:02.833827Z"
    },
    "collapsed": true,
    "hidden": true
   },
   "outputs": [],
   "source": [
    "import re\n",
    "FLAGS = re.MULTILINE | re.DOTALL | re.UNICODE\n",
    "\n",
    "URL_RE = re.compile(r\"https?:\\/\\/\\S+\\b|www\\.(\\w+\\.)+\\S*\", FLAGS)"
   ]
  },
  {
   "cell_type": "code",
   "execution_count": null,
   "metadata": {
    "ExecuteTime": {
     "end_time": "2017-12-27T00:57:27.312363Z",
     "start_time": "2017-12-27T00:57:27.272226Z"
    },
    "collapsed": true,
    "hidden": true
   },
   "outputs": [],
   "source": [
    "url_text = \" whatever https://hello.co \""
   ]
  },
  {
   "cell_type": "code",
   "execution_count": null,
   "metadata": {
    "ExecuteTime": {
     "end_time": "2017-12-27T00:50:05.043642Z",
     "start_time": "2017-12-27T00:50:05.036101Z"
    },
    "collapsed": true,
    "hidden": true
   },
   "outputs": [],
   "source": [
    "URL_RE.sub(\"\", url_text)"
   ]
  },
  {
   "cell_type": "code",
   "execution_count": null,
   "metadata": {
    "ExecuteTime": {
     "end_time": "2017-12-27T00:48:33.139676Z",
     "start_time": "2017-12-27T00:48:33.132026Z"
    },
    "collapsed": true,
    "hidden": true
   },
   "outputs": [],
   "source": [
    "url_text"
   ]
  },
  {
   "cell_type": "code",
   "execution_count": null,
   "metadata": {
    "ExecuteTime": {
     "end_time": "2017-12-27T00:51:44.695157Z",
     "start_time": "2017-12-27T00:51:44.685915Z"
    },
    "collapsed": true,
    "hidden": true
   },
   "outputs": [],
   "source": [
    "m = URL_RE.search(url_text)"
   ]
  },
  {
   "cell_type": "code",
   "execution_count": null,
   "metadata": {
    "ExecuteTime": {
     "end_time": "2017-12-27T00:51:49.454847Z",
     "start_time": "2017-12-27T00:51:49.439204Z"
    },
    "collapsed": true,
    "hidden": true
   },
   "outputs": [],
   "source": [
    "m"
   ]
  },
  {
   "cell_type": "code",
   "execution_count": null,
   "metadata": {
    "ExecuteTime": {
     "end_time": "2017-12-27T00:57:48.432137Z",
     "start_time": "2017-12-27T00:57:48.424627Z"
    },
    "collapsed": true,
    "hidden": true
   },
   "outputs": [],
   "source": [
    "tweet._raw_text = url_text\n",
    "tweet.has_url()"
   ]
  },
  {
   "cell_type": "code",
   "execution_count": null,
   "metadata": {
    "ExecuteTime": {
     "end_time": "2017-12-27T01:14:08.907862Z",
     "start_time": "2017-12-27T01:14:08.870152Z"
    },
    "collapsed": true,
    "hidden": true
   },
   "outputs": [],
   "source": [
    "retweet_ = tweet.get('retweeted_status')"
   ]
  },
  {
   "cell_type": "code",
   "execution_count": null,
   "metadata": {
    "ExecuteTime": {
     "end_time": "2017-12-27T01:14:09.758042Z",
     "start_time": "2017-12-27T01:14:09.742919Z"
    },
    "collapsed": true,
    "hidden": true
   },
   "outputs": [],
   "source": [
    "type(retweet_)"
   ]
  },
  {
   "cell_type": "code",
   "execution_count": null,
   "metadata": {
    "ExecuteTime": {
     "end_time": "2017-12-27T01:14:10.184083Z",
     "start_time": "2017-12-27T01:14:10.177008Z"
    },
    "collapsed": true,
    "hidden": true
   },
   "outputs": [],
   "source": [
    "retweet = tweeta.TweetaTweet(retweet_)"
   ]
  },
  {
   "cell_type": "code",
   "execution_count": null,
   "metadata": {
    "ExecuteTime": {
     "end_time": "2017-12-27T01:14:10.729231Z",
     "start_time": "2017-12-27T01:14:10.699157Z"
    },
    "collapsed": true,
    "hidden": true
   },
   "outputs": [],
   "source": [
    "retweet.text()"
   ]
  },
  {
   "cell_type": "markdown",
   "metadata": {
    "collapsed": true,
    "heading_collapsed": true
   },
   "source": [
    "### is_valid()"
   ]
  },
  {
   "cell_type": "code",
   "execution_count": null,
   "metadata": {
    "ExecuteTime": {
     "end_time": "2018-01-01T14:49:26.319721Z",
     "start_time": "2018-01-01T14:49:26.316487Z"
    },
    "collapsed": true,
    "hidden": true
   },
   "outputs": [],
   "source": [
    "line = r'{\"user\": {\"profile_use_background_image\": true, \"notifications\": null, \"profile_background_image_url_https\": \"https://pbs.twimg.com/profile_background_images/638720895205384192/gzcmCbFB.jpg\", \"description\": \"baby girl gets wtv baby girl wants | champagnemami |sc : tatianaoliv |\", \"default_profile_image\": false, \"utc_offset\": 3600, \"listed_count\": 7, \"is_translator\": false, \"favourites_count\": 28046, \"created_at\": \"Wed May 01 15:46:51 +0000 2013\", \"profile_banner_url\": \"https://pbs.twimg.com/profile_banners/1394933906/1484181190\", \"statuses_count\": 52467, \"contributors_enabled\": false, \"location\": \"2615\", \"friends_count\": 970, \"profile_background_image_url\": \"http://pbs.twimg.com/profile_background_images/638720895205384192/gzcmCbFB.jpg\", \"profile_background_color\": \"FFFFFF\", \"id_str\": \"1394933906\", \"time_zone\": \"Amsterdam\", \"verified\": false, \"profile_text_color\": \"DCDCDA\", \"geo_enabled\": true, \"profile_image_url\": \"http://pbs.twimg.com/profile_images/821442411855577089/lhnBByy4_normal.jpg\", \"default_profile\": false, \"profile_image_url_https\": \"https://pbs.twimg.com/profile_images/821442411855577089/lhnBByy4_normal.jpg\", \"profile_sidebar_border_color\": \"000000\", \"profile_sidebar_fill_color\": \"F7F7F7\", \"protected\": false, \"following\": null, \"follow_request_sent\": null, \"url\": null, \"name\": \"crystal\", \"id\": 1394933906, \"lang\": \"pt\", \"screen_name\": \"tt_oliv\", \"profile_link_color\": \"FF691F\", \"followers_count\": 2577, \"profile_background_tile\": true}, \"geo\": null, \"retweet_count\": 0, \"in_reply_to_status_id\": null, \"in_reply_to_user_id_str\": null, \"is_quote_status\": false, \"created_at\": \"Fri Jan 20 00:14:57 +0000 2017\", \"retweeted\": false, \"filter_level\": \"low\", \"entities\": {\"symbols\": [], \"user_mentions\": [], \"urls\": [], \"hashtags\": []}, \"contributors\": null, \"in_reply_to_user_id\": null, \"favorited\": false, \"timestamp_ms\": \"1484871297665\", \"id_str\": \"822235933739286528\", \"favorite_count\": 0, \"coordinates\": null, \"in_reply_to_screen_name\": null, \"source\": \"<a href=\\\"http://twitter.com/download/iphone\\\" rel=\\\"nofollow\\\">Twitter for iPhone</a>\", \"truncated\": false, \"place\": null, \"text\": \"t cheia d dores\", \"id\": 822235933739286528, \"lang\": \"pt\", \"in_reply_to_status_id_str\": null}'"
   ]
  },
  {
   "cell_type": "code",
   "execution_count": null,
   "metadata": {
    "ExecuteTime": {
     "end_time": "2018-01-01T14:49:26.871817Z",
     "start_time": "2018-01-01T14:49:26.867499Z"
    },
    "collapsed": true,
    "hidden": true
   },
   "outputs": [],
   "source": [
    "line = r'{\"created_at\": \"Sat Jan 07 22:11:12 +0000 2017\", \"id\": 817856136615436288, \"id_str\": \"817856136615436288\", \"full_text\": \"RT @Levijacob10: @Levijacob10 @esthe_fhany \\n1,3,4,5,7\", \"truncated\": false, \"display_text_range\": [0, 53], \"entities\": {\"hashtags\": [], \"symbols\": [], \"user_mentions\": [{\"screen_name\": \"Levijacob10\", \"name\": \"Levi Jacob \\u26ab\\ud83d\\udd34\", \"id\": 4585555932, \"id_str\": \"4585555932\", \"indices\": [3, 15]}, {\"screen_name\": \"Levijacob10\", \"name\": \"Levi Jacob \\u26ab\\ud83d\\udd34\", \"id\": 4585555932, \"id_str\": \"4585555932\", \"indices\": [17, 29]}, {\"screen_name\": \"esthe_fhany\", \"name\": \"\\ud83d\\udeae\", \"id\": 737711223802859521, \"id_str\": \"737711223802859521\", \"indices\": [30, 42]}], \"urls\": []}, \"source\": \"<a href=\\\"http://twitter.com/download/android\\\" rel=\\\"nofollow\\\">Twitter for Android</a>\", \"in_reply_to_status_id\": null, \"in_reply_to_status_id_str\": null, \"in_reply_to_user_id\": null, \"in_reply_to_user_id_str\": null, \"in_reply_to_screen_name\": null, \"user\": {\"id\": 737711223802859521, \"id_str\": \"737711223802859521\", \"name\": \"\\ud83d\\udeae\", \"screen_name\": \"esthe_fhany\", \"location\": \"\", \"description\": \"30/10\\u2764\\ufe0f t\\u00e9cnica de enfermagem \\ud83d\\udc69\\ud83c\\udffd\\u200d\\u2695\\ufe0f\\u2764\\ufe0f\", \"url\": null, \"entities\": {\"description\": {\"urls\": []}}, \"protected\": false, \"followers_count\": 696, \"friends_count\": 437, \"listed_count\": 1, \"created_at\": \"Tue May 31 18:23:56 +0000 2016\", \"favourites_count\": 6332, \"utc_offset\": null, \"time_zone\": null, \"geo_enabled\": true, \"verified\": false, \"statuses_count\": 7491, \"lang\": \"pt\", \"contributors_enabled\": false, \"is_translator\": false, \"is_translation_enabled\": false, \"profile_background_color\": \"F5F8FA\", \"profile_background_image_url\": null, \"profile_background_image_url_https\": null, \"profile_background_tile\": false, \"profile_image_url\": \"http://pbs.twimg.com/profile_images/945772757391937537/kQ-Q0a-j_normal.jpg\", \"profile_image_url_https\": \"https://pbs.twimg.com/profile_images/945772757391937537/kQ-Q0a-j_normal.jpg\", \"profile_banner_url\": \"https://pbs.twimg.com/profile_banners/737711223802859521/1512044907\", \"profile_link_color\": \"1DA1F2\", \"profile_sidebar_border_color\": \"C0DEED\", \"profile_sidebar_fill_color\": \"DDEEF6\", \"profile_text_color\": \"333333\", \"profile_use_background_image\": true, \"has_extended_profile\": false, \"default_profile\": true, \"default_profile_image\": false, \"following\": null, \"follow_request_sent\": null, \"notifications\": null, \"translator_type\": \"none\"}, \"geo\": null, \"coordinates\": null, \"place\": null, \"contributors\": null, \"retweeted_status\": {\"created_at\": \"Sat Jan 07 22:03:00 +0000 2017\", \"id\": 817854071482843136, \"id_str\": \"817854071482843136\", \"full_text\": \"@Levijacob10 @esthe_fhany \\n1,3,4,5,7\", \"truncated\": false, \"display_text_range\": [13, 36], \"entities\": {\"hashtags\": [], \"symbols\": [], \"user_mentions\": [{\"screen_name\": \"Levijacob10\", \"name\": \"Levi Jacob \\u26ab\\ud83d\\udd34\", \"id\": 4585555932, \"id_str\": \"4585555932\", \"indices\": [0, 12]}, {\"screen_name\": \"esthe_fhany\", \"name\": \"\\ud83d\\udeae\", \"id\": 737711223802859521, \"id_str\": \"737711223802859521\", \"indices\": [13, 25]}], \"urls\": []}, \"source\": \"<a href=\\\"http://twitter.com/download/android\\\" rel=\\\"nofollow\\\">Twitter for Android</a>\", \"in_reply_to_status_id\": 808833253604020224, \"in_reply_to_status_id_str\": \"808833253604020224\", \"in_reply_to_user_id\": 4585555932, \"in_reply_to_user_id_str\": \"4585555932\", \"in_reply_to_screen_name\": \"Levijacob10\", \"user\": {\"id\": 4585555932, \"id_str\": \"4585555932\", \"name\": \"Levi Jacob \\u26ab\\ud83d\\udd34\", \"screen_name\": \"Levijacob10\", \"location\": \"Rio de Janeiro, Brasil\", \"description\": \"\", \"url\": null, \"entities\": {\"description\": {\"urls\": []}}, \"protected\": false, \"followers_count\": 859, \"friends_count\": 310, \"listed_count\": 2, \"created_at\": \"Thu Dec 17 15:44:08 +0000 2015\", \"favourites_count\": 13390, \"utc_offset\": null, \"time_zone\": null, \"geo_enabled\": true, \"verified\": false, \"statuses_count\": 12736, \"lang\": \"pt\", \"contributors_enabled\": false, \"is_translator\": false, \"is_translation_enabled\": false, \"profile_background_color\": \"F5F8FA\", \"profile_background_image_url\": null, \"profile_background_image_url_https\": null, \"profile_background_tile\": false, \"profile_image_url\": \"http://pbs.twimg.com/profile_images/945817669911097344/hKsJb1Gg_normal.jpg\", \"profile_image_url_https\": \"https://pbs.twimg.com/profile_images/945817669911097344/hKsJb1Gg_normal.jpg\", \"profile_banner_url\": \"https://pbs.twimg.com/profile_banners/4585555932/1514742132\", \"profile_link_color\": \"1DA1F2\", \"profile_sidebar_border_color\": \"C0DEED\", \"profile_sidebar_fill_color\": \"DDEEF6\", \"profile_text_color\": \"333333\", \"profile_use_background_image\": true, \"has_extended_profile\": true, \"default_profile\": true, \"default_profile_image\": false, \"following\": null, \"follow_request_sent\": null, \"notifications\": null, \"translator_type\": \"none\"}, \"geo\": null, \"coordinates\": null, \"place\": null, \"contributors\": null, \"is_quote_status\": false, \"retweet_count\": 1, \"favorite_count\": 1, \"favorited\": false, \"retweeted\": false, \"lang\": \"und\"}, \"is_quote_status\": false, \"retweet_count\": 1, \"favorite_count\": 0, \"favorited\": false, \"retweeted\": false, \"lang\": \"und\"}'"
   ]
  },
  {
   "cell_type": "code",
   "execution_count": 5,
   "metadata": {
    "ExecuteTime": {
     "end_time": "2018-01-23T02:42:47.436780Z",
     "start_time": "2018-01-23T02:42:47.433811Z"
    },
    "collapsed": true,
    "hidden": true
   },
   "outputs": [],
   "source": [
    "line = r'{\"text\": \"@piolilla DA!!!!!!!!!!\", \"truncated\": false, \"source\": \"<a href=\\\"http://www.twhirl.org/\\\" rel=\\\"nofollow\\\">twhirl</a>\", \"in_reply_to_status_id\": 4510825220, \"favorited\": false, \"created_at\": \"Thu Oct 01 00:00:26 +0000 2009\", \"user\": {\"time_zone\": \"Santiago\", \"favourites_count\": 1, \"profile_background_color\": \"9ae4e8\", \"location\": \"Santiago\", \"verified\": false, \"notifications\": null, \"profile_background_image_url\": \"http://s.twimg.com/a/1254344155/images/themes/theme1/bg.png\", \"profile_text_color\": \"000000\", \"description\": \"Soy chilena, soy periodista, me gusta la fotografia, las peliculas, andar en bici, el cafe y el sol.\", \"following\": null, \"profile_link_color\": \"0000ff\", \"url\": null, \"profile_sidebar_fill_color\": \"e0ff92\", \"protected\": false, \"created_at\": \"Fri Apr 04 02:19:35 +0000 2008\", \"followers_count\": 102, \"profile_image_url\": \"http://a3.twimg.com/profile_images/377574333/eos_normal.jpg\", \"name\": \"ximena poblete\", \"profile_sidebar_border_color\": \"87bc44\", \"id\": 14299021, \"statuses_count\": 785, \"profile_background_tile\": false, \"utc_offset\": -14400, \"friends_count\": 88, \"screen_name\": \"ximepoblete\"}, \"in_reply_to_user_id\": 10925762, \"id\": 4511052908, \"in_reply_to_screen_name\": \"piolilla\"}'"
   ]
  },
  {
   "cell_type": "code",
   "execution_count": 6,
   "metadata": {
    "ExecuteTime": {
     "end_time": "2018-01-23T02:42:50.099484Z",
     "start_time": "2018-01-23T02:42:50.097627Z"
    },
    "collapsed": true,
    "hidden": true
   },
   "outputs": [],
   "source": [
    "import tweeta"
   ]
  },
  {
   "cell_type": "code",
   "execution_count": 7,
   "metadata": {
    "ExecuteTime": {
     "end_time": "2018-01-23T02:42:51.964211Z",
     "start_time": "2018-01-23T02:42:51.961802Z"
    },
    "hidden": true
   },
   "outputs": [
    {
     "data": {
      "text/plain": [
       "'0.1.3'"
      ]
     },
     "execution_count": 7,
     "metadata": {},
     "output_type": "execute_result"
    }
   ],
   "source": [
    "tweeta.__version__"
   ]
  },
  {
   "cell_type": "code",
   "execution_count": 10,
   "metadata": {
    "ExecuteTime": {
     "end_time": "2018-01-23T02:43:16.506384Z",
     "start_time": "2018-01-23T02:43:16.504093Z"
    },
    "collapsed": true,
    "hidden": true
   },
   "outputs": [],
   "source": [
    "tweet = tweeta.TweetaTweet(line)"
   ]
  },
  {
   "cell_type": "code",
   "execution_count": 11,
   "metadata": {
    "ExecuteTime": {
     "end_time": "2018-01-23T02:43:17.192237Z",
     "start_time": "2018-01-23T02:43:17.189784Z"
    },
    "hidden": true
   },
   "outputs": [
    {
     "data": {
      "text/plain": [
       "<TweetaTweet: {'text': '@piolilla DA!!!!!!!!!!', 'truncated': False, 'source': '<a href=\"http://www.twhirl.org/\" rel=\"nofollow\">twhirl</a>', 'in_reply_to_status_id': 4510825220, 'favorited': False, 'created_at': 'Thu Oct 01 00:00:26 +0000 2009', 'user': {'time_zone': 'Santiago', 'favourites_count': 1, 'profile_background_color': '9ae4e8', 'location': 'Santiago', 'verified': False, 'notifications': None, 'profile_background_image_url': 'http://s.twimg.com/a/1254344155/images/themes/theme1/bg.png', 'profile_text_color': '000000', 'description': 'Soy chilena, soy periodista, me gusta la fotografia, las peliculas, andar en bici, el cafe y el sol.', 'following': None, 'profile_link_color': '0000ff', 'url': None, 'profile_sidebar_fill_color': 'e0ff92', 'protected': False, 'created_at': 'Fri Apr 04 02:19:35 +0000 2008', 'followers_count': 102, 'profile_image_url': 'http://a3.twimg.com/profile_images/377574333/eos_normal.jpg', 'name': 'ximena poblete', 'profile_sidebar_border_color': '87bc44', 'id': 14299021, 'statuses_count': 785, 'profile_background_tile': False, 'utc_offset': -14400, 'friends_count': 88, 'screen_name': 'ximepoblete'}, 'in_reply_to_user_id': 10925762, 'id': 4511052908, 'in_reply_to_screen_name': 'piolilla'}>"
      ]
     },
     "execution_count": 11,
     "metadata": {},
     "output_type": "execute_result"
    }
   ],
   "source": [
    "tweet"
   ]
  },
  {
   "cell_type": "code",
   "execution_count": 12,
   "metadata": {
    "ExecuteTime": {
     "end_time": "2018-01-23T02:43:18.985987Z",
     "start_time": "2018-01-23T02:43:18.982943Z"
    },
    "hidden": true
   },
   "outputs": [
    {
     "data": {
      "text/plain": [
       "True"
      ]
     },
     "execution_count": 12,
     "metadata": {},
     "output_type": "execute_result"
    }
   ],
   "source": [
    "tweet.is_valid()"
   ]
  },
  {
   "cell_type": "code",
   "execution_count": 13,
   "metadata": {
    "ExecuteTime": {
     "end_time": "2018-01-23T02:43:20.062042Z",
     "start_time": "2018-01-23T02:43:20.059421Z"
    },
    "hidden": true
   },
   "outputs": [
    {
     "data": {
      "text/plain": [
       "'@piolilla DA!!!!!!!!!!'"
      ]
     },
     "execution_count": 13,
     "metadata": {},
     "output_type": "execute_result"
    }
   ],
   "source": [
    "tweet.text()"
   ]
  },
  {
   "cell_type": "code",
   "execution_count": 12,
   "metadata": {
    "hidden": true
   },
   "outputs": [
    {
     "name": "stdout",
     "output_type": "stream",
     "text": [
      "@kotuzak @BetteMidler Oh...ok. conservative, Gun loving trumptard.😅😅😅😅😅😅😅😅 PORN STARS...$130,000 #NRABloodMoney #RussianSanctions  #draftdodger\n",
      "@kotuzak @BetteMidler Oh...ok. conservative, Gun loving trumptard. PORN STARS...$130,000 #NRABloodMoney #RussianSanctions  #draftdodger\n"
     ]
    }
   ],
   "source": [
    "import tweeta\n",
    "with open(\"test\", \"r\") as f:\n",
    "    for line in f:\n",
    "        tweet = tweeta.TweetaTweet(line)\n",
    "        print(tweet.fixed_text())\n",
    "        print(tweet.replace_emoji_in_text())"
   ]
  },
  {
   "cell_type": "code",
   "execution_count": 13,
   "metadata": {},
   "outputs": [
    {
     "name": "stdout",
     "output_type": "stream",
     "text": [
      "@kotuzak @BetteMidler Oh...ok. conservative, Gun loving trumptard.😅😅😅😅😅😅😅😅 PORN STARS...$130,000 #NRABloodMoney #RussianSanctions  #draftdodger\n",
      "@kotuzak @BetteMidler Oh...ok. conservative, Gun loving trumptard.%%%%%%%%%%%%%%%% PORN STARS...$130,000 #NRABloodMoney #RussianSanctions  #draftdodger\n"
     ]
    }
   ],
   "source": [
    "with open(\"test\", \"r\") as f:\n",
    "    for line in f:\n",
    "        tweet = tweeta.TweetaTweet(line)\n",
    "        print(tweet.fixed_text())\n",
    "        print(tweet.replace_emoji_in_text(\"%%\"))"
   ]
  }
 ],
 "metadata": {
  "kernelspec": {
   "display_name": "Python 3",
   "language": "python",
   "name": "python3"
  },
  "language_info": {
   "codemirror_mode": {
    "name": "ipython",
    "version": 3
   },
   "file_extension": ".py",
   "mimetype": "text/x-python",
   "name": "python",
   "nbconvert_exporter": "python",
   "pygments_lexer": "ipython3",
   "version": "3.6.3"
  },
  "latex_envs": {
   "LaTeX_envs_menu_present": true,
   "autoclose": false,
   "autocomplete": true,
   "bibliofile": "biblio.bib",
   "cite_by": "apalike",
   "current_citInitial": 1,
   "eqLabelWithNumbers": true,
   "eqNumInitial": 1,
   "hotkeys": {
    "equation": "Ctrl-E",
    "itemize": "Ctrl-I"
   },
   "labels_anchors": false,
   "latex_user_defs": false,
   "report_style_numbering": false,
   "user_envs_cfg": false
  },
  "toc": {
   "nav_menu": {},
   "number_sections": true,
   "sideBar": true,
   "skip_h1_title": false,
   "toc_cell": false,
   "toc_position": {},
   "toc_section_display": "block",
   "toc_window_display": false
  },
  "varInspector": {
   "cols": {
    "lenName": 16,
    "lenType": 16,
    "lenVar": 40
   },
   "kernels_config": {
    "python": {
     "delete_cmd_postfix": "",
     "delete_cmd_prefix": "del ",
     "library": "var_list.py",
     "varRefreshCmd": "print(var_dic_list())"
    },
    "r": {
     "delete_cmd_postfix": ") ",
     "delete_cmd_prefix": "rm(",
     "library": "var_list.r",
     "varRefreshCmd": "cat(var_dic_list()) "
    }
   },
   "types_to_exclude": [
    "module",
    "function",
    "builtin_function_or_method",
    "instance",
    "_Feature"
   ],
   "window_display": false
  }
 },
 "nbformat": 4,
 "nbformat_minor": 2
}
